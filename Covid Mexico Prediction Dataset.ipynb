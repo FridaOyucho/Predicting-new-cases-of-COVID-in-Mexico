{
 "cells": [
  {
   "cell_type": "markdown",
   "metadata": {},
   "source": [
    "**Business Understanding**"
   ]
  },
  {
   "cell_type": "markdown",
   "metadata": {},
   "source": [
    "This project aims to provide an in-depth analysis of the COVID-19 situation in Mexico and develop a machine learning-based model to predict new cases of the virus. By leveraging historical data on COVID-19 cases, the project seeks to identify trends, patterns, and potential correlations with various factors that may contribute to the spread of the virus. The insights gained from this analysis and the predictive model will help inform public health policies and strategies for better managing and mitigating the impact of the pandemic."
   ]
  },
  {
   "cell_type": "markdown",
   "metadata": {},
   "source": [
    "**Data Understanding**"
   ]
  },
  {
   "cell_type": "markdown",
   "metadata": {},
   "source": [
    "The data was extracted from the Government of Mexico's ministry of Health national data repository. The data conatins 10,000 rows with 22 columns. \n",
    "The target variable for modelling is **['covid_res']** and predictor variables after preprocessing the data areas listed:\n",
    "**['sex', 'patient_type','month_name',\n",
    "'intubed', 'pneumonia', 'pregnancy', 'diabetes', 'copd',\n",
    "'asthma', 'inmsupr', 'hypertension', 'other_disease', 'cardiovascular',\n",
    "'obesity', 'renal_chronic', 'tobacco', 'contact_other_covid',\n",
    "'icu','dead','age_groups']**"
   ]
  },
  {
   "cell_type": "markdown",
   "metadata": {},
   "source": [
    "**Objective**"
   ]
  },
  {
   "cell_type": "markdown",
   "metadata": {},
   "source": [
    "The primary objective of this project is to develop a machine learning-based forecasting model for predicting new COVID-19 cases in Mexico. The model will be trained on the provided dataset described above and will consider various factors, such as demographic information, socioeconomic indicators, and public health interventions. The project will also aim to:\n",
    "\n",
    "* Conduct Exploratory Data Analysis: Analyze the COVID-19 situation in Mexico, identifying trends and patterns in the spread of the virus.\n",
    "* Investigate potential correlations between different factors and the number of new COVID-19 cases.\n",
    "* Evaluate and compare  the performance of the developed Machine learning models .\n",
    "* Provide actionable insights and recommendations to inform public health policies and strategies for controlling the spread of COVID-19 in Mexico."
   ]
  },
  {
   "cell_type": "markdown",
   "metadata": {},
   "source": [
    "**Importing the libraries for loading and exploring the data**"
   ]
  },
  {
   "cell_type": "code",
   "execution_count": 354,
   "metadata": {},
   "outputs": [],
   "source": [
    "import numpy as np\n",
    "import pandas as pd\n",
    "import matplotlib.pyplot as plt\n",
    "import warnings\n",
    "import seaborn as sns\n",
    "warnings.filterwarnings('ignore')"
   ]
  },
  {
   "cell_type": "markdown",
   "metadata": {},
   "source": [
    "**Loading the data**"
   ]
  },
  {
   "cell_type": "code",
   "execution_count": 355,
   "metadata": {},
   "outputs": [
    {
     "data": {
      "text/html": [
       "<div>\n",
       "<style scoped>\n",
       "    .dataframe tbody tr th:only-of-type {\n",
       "        vertical-align: middle;\n",
       "    }\n",
       "\n",
       "    .dataframe tbody tr th {\n",
       "        vertical-align: top;\n",
       "    }\n",
       "\n",
       "    .dataframe thead th {\n",
       "        text-align: right;\n",
       "    }\n",
       "</style>\n",
       "<table border=\"1\" class=\"dataframe\">\n",
       "  <thead>\n",
       "    <tr style=\"text-align: right;\">\n",
       "      <th></th>\n",
       "      <th>sex</th>\n",
       "      <th>patient_type</th>\n",
       "      <th>entry_date</th>\n",
       "      <th>date_symptoms</th>\n",
       "      <th>date_died</th>\n",
       "      <th>intubed</th>\n",
       "      <th>pneumonia</th>\n",
       "      <th>age</th>\n",
       "      <th>pregnancy</th>\n",
       "      <th>diabetes</th>\n",
       "      <th>...</th>\n",
       "      <th>inmsupr</th>\n",
       "      <th>hypertension</th>\n",
       "      <th>other_disease</th>\n",
       "      <th>cardiovascular</th>\n",
       "      <th>obesity</th>\n",
       "      <th>renal_chronic</th>\n",
       "      <th>tobacco</th>\n",
       "      <th>contact_other_covid</th>\n",
       "      <th>covid_res</th>\n",
       "      <th>icu</th>\n",
       "    </tr>\n",
       "    <tr>\n",
       "      <th>id</th>\n",
       "      <th></th>\n",
       "      <th></th>\n",
       "      <th></th>\n",
       "      <th></th>\n",
       "      <th></th>\n",
       "      <th></th>\n",
       "      <th></th>\n",
       "      <th></th>\n",
       "      <th></th>\n",
       "      <th></th>\n",
       "      <th></th>\n",
       "      <th></th>\n",
       "      <th></th>\n",
       "      <th></th>\n",
       "      <th></th>\n",
       "      <th></th>\n",
       "      <th></th>\n",
       "      <th></th>\n",
       "      <th></th>\n",
       "      <th></th>\n",
       "      <th></th>\n",
       "    </tr>\n",
       "  </thead>\n",
       "  <tbody>\n",
       "    <tr>\n",
       "      <th>0dd249</th>\n",
       "      <td>Male</td>\n",
       "      <td>Outpatient</td>\n",
       "      <td>24-05-2020</td>\n",
       "      <td>18-05-2020</td>\n",
       "      <td>NaN</td>\n",
       "      <td>NaN</td>\n",
       "      <td>Yes</td>\n",
       "      <td>29</td>\n",
       "      <td>NaN</td>\n",
       "      <td>No</td>\n",
       "      <td>...</td>\n",
       "      <td>No</td>\n",
       "      <td>No</td>\n",
       "      <td>No</td>\n",
       "      <td>No</td>\n",
       "      <td>No</td>\n",
       "      <td>No</td>\n",
       "      <td>Yes</td>\n",
       "      <td>Yes</td>\n",
       "      <td>Negative</td>\n",
       "      <td>NaN</td>\n",
       "    </tr>\n",
       "    <tr>\n",
       "      <th>0957d9</th>\n",
       "      <td>Female</td>\n",
       "      <td>Outpatient</td>\n",
       "      <td>18-06-2020</td>\n",
       "      <td>16-06-2020</td>\n",
       "      <td>NaN</td>\n",
       "      <td>NaN</td>\n",
       "      <td>No</td>\n",
       "      <td>45</td>\n",
       "      <td>No</td>\n",
       "      <td>No</td>\n",
       "      <td>...</td>\n",
       "      <td>No</td>\n",
       "      <td>No</td>\n",
       "      <td>No</td>\n",
       "      <td>No</td>\n",
       "      <td>No</td>\n",
       "      <td>No</td>\n",
       "      <td>No</td>\n",
       "      <td>NaN</td>\n",
       "      <td>Negative</td>\n",
       "      <td>NaN</td>\n",
       "    </tr>\n",
       "    <tr>\n",
       "      <th>0ad2eb</th>\n",
       "      <td>Female</td>\n",
       "      <td>Outpatient</td>\n",
       "      <td>11-05-2020</td>\n",
       "      <td>11-05-2020</td>\n",
       "      <td>NaN</td>\n",
       "      <td>NaN</td>\n",
       "      <td>No</td>\n",
       "      <td>25</td>\n",
       "      <td>No</td>\n",
       "      <td>No</td>\n",
       "      <td>...</td>\n",
       "      <td>No</td>\n",
       "      <td>No</td>\n",
       "      <td>No</td>\n",
       "      <td>No</td>\n",
       "      <td>No</td>\n",
       "      <td>No</td>\n",
       "      <td>No</td>\n",
       "      <td>Yes</td>\n",
       "      <td>Negative</td>\n",
       "      <td>NaN</td>\n",
       "    </tr>\n",
       "    <tr>\n",
       "      <th>1646ba</th>\n",
       "      <td>Female</td>\n",
       "      <td>Outpatient</td>\n",
       "      <td>24-06-2020</td>\n",
       "      <td>19-06-2020</td>\n",
       "      <td>NaN</td>\n",
       "      <td>NaN</td>\n",
       "      <td>No</td>\n",
       "      <td>11</td>\n",
       "      <td>No</td>\n",
       "      <td>No</td>\n",
       "      <td>...</td>\n",
       "      <td>No</td>\n",
       "      <td>No</td>\n",
       "      <td>No</td>\n",
       "      <td>No</td>\n",
       "      <td>No</td>\n",
       "      <td>No</td>\n",
       "      <td>No</td>\n",
       "      <td>Yes</td>\n",
       "      <td>Positive</td>\n",
       "      <td>NaN</td>\n",
       "    </tr>\n",
       "    <tr>\n",
       "      <th>1e31dd</th>\n",
       "      <td>Male</td>\n",
       "      <td>Outpatient</td>\n",
       "      <td>17-05-2020</td>\n",
       "      <td>16-05-2020</td>\n",
       "      <td>NaN</td>\n",
       "      <td>NaN</td>\n",
       "      <td>No</td>\n",
       "      <td>28</td>\n",
       "      <td>NaN</td>\n",
       "      <td>No</td>\n",
       "      <td>...</td>\n",
       "      <td>No</td>\n",
       "      <td>No</td>\n",
       "      <td>No</td>\n",
       "      <td>No</td>\n",
       "      <td>No</td>\n",
       "      <td>No</td>\n",
       "      <td>No</td>\n",
       "      <td>Yes</td>\n",
       "      <td>Negative</td>\n",
       "      <td>NaN</td>\n",
       "    </tr>\n",
       "    <tr>\n",
       "      <th>...</th>\n",
       "      <td>...</td>\n",
       "      <td>...</td>\n",
       "      <td>...</td>\n",
       "      <td>...</td>\n",
       "      <td>...</td>\n",
       "      <td>...</td>\n",
       "      <td>...</td>\n",
       "      <td>...</td>\n",
       "      <td>...</td>\n",
       "      <td>...</td>\n",
       "      <td>...</td>\n",
       "      <td>...</td>\n",
       "      <td>...</td>\n",
       "      <td>...</td>\n",
       "      <td>...</td>\n",
       "      <td>...</td>\n",
       "      <td>...</td>\n",
       "      <td>...</td>\n",
       "      <td>...</td>\n",
       "      <td>...</td>\n",
       "      <td>...</td>\n",
       "    </tr>\n",
       "    <tr>\n",
       "      <th>1b5791</th>\n",
       "      <td>Male</td>\n",
       "      <td>Outpatient</td>\n",
       "      <td>16-06-2020</td>\n",
       "      <td>15-06-2020</td>\n",
       "      <td>NaN</td>\n",
       "      <td>NaN</td>\n",
       "      <td>No</td>\n",
       "      <td>43</td>\n",
       "      <td>NaN</td>\n",
       "      <td>No</td>\n",
       "      <td>...</td>\n",
       "      <td>No</td>\n",
       "      <td>No</td>\n",
       "      <td>No</td>\n",
       "      <td>No</td>\n",
       "      <td>No</td>\n",
       "      <td>No</td>\n",
       "      <td>No</td>\n",
       "      <td>No</td>\n",
       "      <td>Negative</td>\n",
       "      <td>NaN</td>\n",
       "    </tr>\n",
       "    <tr>\n",
       "      <th>15b33c</th>\n",
       "      <td>Male</td>\n",
       "      <td>Inpatient</td>\n",
       "      <td>05-05-2020</td>\n",
       "      <td>24-04-2020</td>\n",
       "      <td>NaN</td>\n",
       "      <td>No</td>\n",
       "      <td>Yes</td>\n",
       "      <td>31</td>\n",
       "      <td>NaN</td>\n",
       "      <td>No</td>\n",
       "      <td>...</td>\n",
       "      <td>No</td>\n",
       "      <td>No</td>\n",
       "      <td>No</td>\n",
       "      <td>No</td>\n",
       "      <td>No</td>\n",
       "      <td>No</td>\n",
       "      <td>No</td>\n",
       "      <td>No</td>\n",
       "      <td>Positive</td>\n",
       "      <td>No</td>\n",
       "    </tr>\n",
       "    <tr>\n",
       "      <th>14fa3f</th>\n",
       "      <td>Male</td>\n",
       "      <td>Outpatient</td>\n",
       "      <td>26-05-2020</td>\n",
       "      <td>22-05-2020</td>\n",
       "      <td>NaN</td>\n",
       "      <td>NaN</td>\n",
       "      <td>No</td>\n",
       "      <td>24</td>\n",
       "      <td>NaN</td>\n",
       "      <td>No</td>\n",
       "      <td>...</td>\n",
       "      <td>No</td>\n",
       "      <td>No</td>\n",
       "      <td>No</td>\n",
       "      <td>No</td>\n",
       "      <td>No</td>\n",
       "      <td>No</td>\n",
       "      <td>No</td>\n",
       "      <td>Yes</td>\n",
       "      <td>Negative</td>\n",
       "      <td>NaN</td>\n",
       "    </tr>\n",
       "    <tr>\n",
       "      <th>09e1c3</th>\n",
       "      <td>Female</td>\n",
       "      <td>Outpatient</td>\n",
       "      <td>08-05-2020</td>\n",
       "      <td>05-05-2020</td>\n",
       "      <td>NaN</td>\n",
       "      <td>NaN</td>\n",
       "      <td>No</td>\n",
       "      <td>42</td>\n",
       "      <td>No</td>\n",
       "      <td>No</td>\n",
       "      <td>...</td>\n",
       "      <td>No</td>\n",
       "      <td>No</td>\n",
       "      <td>No</td>\n",
       "      <td>No</td>\n",
       "      <td>No</td>\n",
       "      <td>No</td>\n",
       "      <td>No</td>\n",
       "      <td>Yes</td>\n",
       "      <td>Negative</td>\n",
       "      <td>NaN</td>\n",
       "    </tr>\n",
       "    <tr>\n",
       "      <th>16d40b</th>\n",
       "      <td>Female</td>\n",
       "      <td>Outpatient</td>\n",
       "      <td>16-04-2020</td>\n",
       "      <td>16-04-2020</td>\n",
       "      <td>NaN</td>\n",
       "      <td>NaN</td>\n",
       "      <td>No</td>\n",
       "      <td>24</td>\n",
       "      <td>No</td>\n",
       "      <td>No</td>\n",
       "      <td>...</td>\n",
       "      <td>No</td>\n",
       "      <td>No</td>\n",
       "      <td>No</td>\n",
       "      <td>No</td>\n",
       "      <td>No</td>\n",
       "      <td>No</td>\n",
       "      <td>No</td>\n",
       "      <td>No</td>\n",
       "      <td>Negative</td>\n",
       "      <td>NaN</td>\n",
       "    </tr>\n",
       "  </tbody>\n",
       "</table>\n",
       "<p>10000 rows × 22 columns</p>\n",
       "</div>"
      ],
      "text/plain": [
       "           sex patient_type  entry_date date_symptoms date_died intubed  \\\n",
       "id                                                                        \n",
       "0dd249    Male   Outpatient  24-05-2020    18-05-2020       NaN     NaN   \n",
       "0957d9  Female   Outpatient  18-06-2020    16-06-2020       NaN     NaN   \n",
       "0ad2eb  Female   Outpatient  11-05-2020    11-05-2020       NaN     NaN   \n",
       "1646ba  Female   Outpatient  24-06-2020    19-06-2020       NaN     NaN   \n",
       "1e31dd    Male   Outpatient  17-05-2020    16-05-2020       NaN     NaN   \n",
       "...        ...          ...         ...           ...       ...     ...   \n",
       "1b5791    Male   Outpatient  16-06-2020    15-06-2020       NaN     NaN   \n",
       "15b33c    Male    Inpatient  05-05-2020    24-04-2020       NaN      No   \n",
       "14fa3f    Male   Outpatient  26-05-2020    22-05-2020       NaN     NaN   \n",
       "09e1c3  Female   Outpatient  08-05-2020    05-05-2020       NaN     NaN   \n",
       "16d40b  Female   Outpatient  16-04-2020    16-04-2020       NaN     NaN   \n",
       "\n",
       "       pneumonia  age pregnancy diabetes  ... inmsupr hypertension  \\\n",
       "id                                        ...                        \n",
       "0dd249       Yes   29       NaN       No  ...      No           No   \n",
       "0957d9        No   45        No       No  ...      No           No   \n",
       "0ad2eb        No   25        No       No  ...      No           No   \n",
       "1646ba        No   11        No       No  ...      No           No   \n",
       "1e31dd        No   28       NaN       No  ...      No           No   \n",
       "...          ...  ...       ...      ...  ...     ...          ...   \n",
       "1b5791        No   43       NaN       No  ...      No           No   \n",
       "15b33c       Yes   31       NaN       No  ...      No           No   \n",
       "14fa3f        No   24       NaN       No  ...      No           No   \n",
       "09e1c3        No   42        No       No  ...      No           No   \n",
       "16d40b        No   24        No       No  ...      No           No   \n",
       "\n",
       "       other_disease cardiovascular obesity renal_chronic tobacco  \\\n",
       "id                                                                  \n",
       "0dd249            No             No      No            No     Yes   \n",
       "0957d9            No             No      No            No      No   \n",
       "0ad2eb            No             No      No            No      No   \n",
       "1646ba            No             No      No            No      No   \n",
       "1e31dd            No             No      No            No      No   \n",
       "...              ...            ...     ...           ...     ...   \n",
       "1b5791            No             No      No            No      No   \n",
       "15b33c            No             No      No            No      No   \n",
       "14fa3f            No             No      No            No      No   \n",
       "09e1c3            No             No      No            No      No   \n",
       "16d40b            No             No      No            No      No   \n",
       "\n",
       "       contact_other_covid covid_res  icu  \n",
       "id                                         \n",
       "0dd249                 Yes  Negative  NaN  \n",
       "0957d9                 NaN  Negative  NaN  \n",
       "0ad2eb                 Yes  Negative  NaN  \n",
       "1646ba                 Yes  Positive  NaN  \n",
       "1e31dd                 Yes  Negative  NaN  \n",
       "...                    ...       ...  ...  \n",
       "1b5791                  No  Negative  NaN  \n",
       "15b33c                  No  Positive   No  \n",
       "14fa3f                 Yes  Negative  NaN  \n",
       "09e1c3                 Yes  Negative  NaN  \n",
       "16d40b                  No  Negative  NaN  \n",
       "\n",
       "[10000 rows x 22 columns]"
      ]
     },
     "execution_count": 355,
     "metadata": {},
     "output_type": "execute_result"
    }
   ],
   "source": [
    "df = pd.read_excel('covid_mexico_data.xlsx', index_col=0)\n",
    "df"
   ]
  },
  {
   "cell_type": "markdown",
   "metadata": {},
   "source": [
    "**Previewing tha data**"
   ]
  },
  {
   "cell_type": "code",
   "execution_count": 356,
   "metadata": {},
   "outputs": [
    {
     "data": {
      "text/html": [
       "<div>\n",
       "<style scoped>\n",
       "    .dataframe tbody tr th:only-of-type {\n",
       "        vertical-align: middle;\n",
       "    }\n",
       "\n",
       "    .dataframe tbody tr th {\n",
       "        vertical-align: top;\n",
       "    }\n",
       "\n",
       "    .dataframe thead th {\n",
       "        text-align: right;\n",
       "    }\n",
       "</style>\n",
       "<table border=\"1\" class=\"dataframe\">\n",
       "  <thead>\n",
       "    <tr style=\"text-align: right;\">\n",
       "      <th></th>\n",
       "      <th>sex</th>\n",
       "      <th>patient_type</th>\n",
       "      <th>entry_date</th>\n",
       "      <th>date_symptoms</th>\n",
       "      <th>date_died</th>\n",
       "      <th>intubed</th>\n",
       "      <th>pneumonia</th>\n",
       "      <th>age</th>\n",
       "      <th>pregnancy</th>\n",
       "      <th>diabetes</th>\n",
       "      <th>...</th>\n",
       "      <th>inmsupr</th>\n",
       "      <th>hypertension</th>\n",
       "      <th>other_disease</th>\n",
       "      <th>cardiovascular</th>\n",
       "      <th>obesity</th>\n",
       "      <th>renal_chronic</th>\n",
       "      <th>tobacco</th>\n",
       "      <th>contact_other_covid</th>\n",
       "      <th>covid_res</th>\n",
       "      <th>icu</th>\n",
       "    </tr>\n",
       "    <tr>\n",
       "      <th>id</th>\n",
       "      <th></th>\n",
       "      <th></th>\n",
       "      <th></th>\n",
       "      <th></th>\n",
       "      <th></th>\n",
       "      <th></th>\n",
       "      <th></th>\n",
       "      <th></th>\n",
       "      <th></th>\n",
       "      <th></th>\n",
       "      <th></th>\n",
       "      <th></th>\n",
       "      <th></th>\n",
       "      <th></th>\n",
       "      <th></th>\n",
       "      <th></th>\n",
       "      <th></th>\n",
       "      <th></th>\n",
       "      <th></th>\n",
       "      <th></th>\n",
       "      <th></th>\n",
       "    </tr>\n",
       "  </thead>\n",
       "  <tbody>\n",
       "    <tr>\n",
       "      <th>0dd249</th>\n",
       "      <td>Male</td>\n",
       "      <td>Outpatient</td>\n",
       "      <td>24-05-2020</td>\n",
       "      <td>18-05-2020</td>\n",
       "      <td>NaN</td>\n",
       "      <td>NaN</td>\n",
       "      <td>Yes</td>\n",
       "      <td>29</td>\n",
       "      <td>NaN</td>\n",
       "      <td>No</td>\n",
       "      <td>...</td>\n",
       "      <td>No</td>\n",
       "      <td>No</td>\n",
       "      <td>No</td>\n",
       "      <td>No</td>\n",
       "      <td>No</td>\n",
       "      <td>No</td>\n",
       "      <td>Yes</td>\n",
       "      <td>Yes</td>\n",
       "      <td>Negative</td>\n",
       "      <td>NaN</td>\n",
       "    </tr>\n",
       "    <tr>\n",
       "      <th>0957d9</th>\n",
       "      <td>Female</td>\n",
       "      <td>Outpatient</td>\n",
       "      <td>18-06-2020</td>\n",
       "      <td>16-06-2020</td>\n",
       "      <td>NaN</td>\n",
       "      <td>NaN</td>\n",
       "      <td>No</td>\n",
       "      <td>45</td>\n",
       "      <td>No</td>\n",
       "      <td>No</td>\n",
       "      <td>...</td>\n",
       "      <td>No</td>\n",
       "      <td>No</td>\n",
       "      <td>No</td>\n",
       "      <td>No</td>\n",
       "      <td>No</td>\n",
       "      <td>No</td>\n",
       "      <td>No</td>\n",
       "      <td>NaN</td>\n",
       "      <td>Negative</td>\n",
       "      <td>NaN</td>\n",
       "    </tr>\n",
       "    <tr>\n",
       "      <th>0ad2eb</th>\n",
       "      <td>Female</td>\n",
       "      <td>Outpatient</td>\n",
       "      <td>11-05-2020</td>\n",
       "      <td>11-05-2020</td>\n",
       "      <td>NaN</td>\n",
       "      <td>NaN</td>\n",
       "      <td>No</td>\n",
       "      <td>25</td>\n",
       "      <td>No</td>\n",
       "      <td>No</td>\n",
       "      <td>...</td>\n",
       "      <td>No</td>\n",
       "      <td>No</td>\n",
       "      <td>No</td>\n",
       "      <td>No</td>\n",
       "      <td>No</td>\n",
       "      <td>No</td>\n",
       "      <td>No</td>\n",
       "      <td>Yes</td>\n",
       "      <td>Negative</td>\n",
       "      <td>NaN</td>\n",
       "    </tr>\n",
       "    <tr>\n",
       "      <th>1646ba</th>\n",
       "      <td>Female</td>\n",
       "      <td>Outpatient</td>\n",
       "      <td>24-06-2020</td>\n",
       "      <td>19-06-2020</td>\n",
       "      <td>NaN</td>\n",
       "      <td>NaN</td>\n",
       "      <td>No</td>\n",
       "      <td>11</td>\n",
       "      <td>No</td>\n",
       "      <td>No</td>\n",
       "      <td>...</td>\n",
       "      <td>No</td>\n",
       "      <td>No</td>\n",
       "      <td>No</td>\n",
       "      <td>No</td>\n",
       "      <td>No</td>\n",
       "      <td>No</td>\n",
       "      <td>No</td>\n",
       "      <td>Yes</td>\n",
       "      <td>Positive</td>\n",
       "      <td>NaN</td>\n",
       "    </tr>\n",
       "    <tr>\n",
       "      <th>1e31dd</th>\n",
       "      <td>Male</td>\n",
       "      <td>Outpatient</td>\n",
       "      <td>17-05-2020</td>\n",
       "      <td>16-05-2020</td>\n",
       "      <td>NaN</td>\n",
       "      <td>NaN</td>\n",
       "      <td>No</td>\n",
       "      <td>28</td>\n",
       "      <td>NaN</td>\n",
       "      <td>No</td>\n",
       "      <td>...</td>\n",
       "      <td>No</td>\n",
       "      <td>No</td>\n",
       "      <td>No</td>\n",
       "      <td>No</td>\n",
       "      <td>No</td>\n",
       "      <td>No</td>\n",
       "      <td>No</td>\n",
       "      <td>Yes</td>\n",
       "      <td>Negative</td>\n",
       "      <td>NaN</td>\n",
       "    </tr>\n",
       "  </tbody>\n",
       "</table>\n",
       "<p>5 rows × 22 columns</p>\n",
       "</div>"
      ],
      "text/plain": [
       "           sex patient_type  entry_date date_symptoms date_died intubed  \\\n",
       "id                                                                        \n",
       "0dd249    Male   Outpatient  24-05-2020    18-05-2020       NaN     NaN   \n",
       "0957d9  Female   Outpatient  18-06-2020    16-06-2020       NaN     NaN   \n",
       "0ad2eb  Female   Outpatient  11-05-2020    11-05-2020       NaN     NaN   \n",
       "1646ba  Female   Outpatient  24-06-2020    19-06-2020       NaN     NaN   \n",
       "1e31dd    Male   Outpatient  17-05-2020    16-05-2020       NaN     NaN   \n",
       "\n",
       "       pneumonia  age pregnancy diabetes  ... inmsupr hypertension  \\\n",
       "id                                        ...                        \n",
       "0dd249       Yes   29       NaN       No  ...      No           No   \n",
       "0957d9        No   45        No       No  ...      No           No   \n",
       "0ad2eb        No   25        No       No  ...      No           No   \n",
       "1646ba        No   11        No       No  ...      No           No   \n",
       "1e31dd        No   28       NaN       No  ...      No           No   \n",
       "\n",
       "       other_disease cardiovascular obesity renal_chronic tobacco  \\\n",
       "id                                                                  \n",
       "0dd249            No             No      No            No     Yes   \n",
       "0957d9            No             No      No            No      No   \n",
       "0ad2eb            No             No      No            No      No   \n",
       "1646ba            No             No      No            No      No   \n",
       "1e31dd            No             No      No            No      No   \n",
       "\n",
       "       contact_other_covid covid_res  icu  \n",
       "id                                         \n",
       "0dd249                 Yes  Negative  NaN  \n",
       "0957d9                 NaN  Negative  NaN  \n",
       "0ad2eb                 Yes  Negative  NaN  \n",
       "1646ba                 Yes  Positive  NaN  \n",
       "1e31dd                 Yes  Negative  NaN  \n",
       "\n",
       "[5 rows x 22 columns]"
      ]
     },
     "execution_count": 356,
     "metadata": {},
     "output_type": "execute_result"
    }
   ],
   "source": [
    "df.head()"
   ]
  },
  {
   "cell_type": "code",
   "execution_count": 357,
   "metadata": {},
   "outputs": [
    {
     "data": {
      "text/html": [
       "<div>\n",
       "<style scoped>\n",
       "    .dataframe tbody tr th:only-of-type {\n",
       "        vertical-align: middle;\n",
       "    }\n",
       "\n",
       "    .dataframe tbody tr th {\n",
       "        vertical-align: top;\n",
       "    }\n",
       "\n",
       "    .dataframe thead th {\n",
       "        text-align: right;\n",
       "    }\n",
       "</style>\n",
       "<table border=\"1\" class=\"dataframe\">\n",
       "  <thead>\n",
       "    <tr style=\"text-align: right;\">\n",
       "      <th></th>\n",
       "      <th>sex</th>\n",
       "      <th>patient_type</th>\n",
       "      <th>entry_date</th>\n",
       "      <th>date_symptoms</th>\n",
       "      <th>date_died</th>\n",
       "      <th>intubed</th>\n",
       "      <th>pneumonia</th>\n",
       "      <th>age</th>\n",
       "      <th>pregnancy</th>\n",
       "      <th>diabetes</th>\n",
       "      <th>...</th>\n",
       "      <th>inmsupr</th>\n",
       "      <th>hypertension</th>\n",
       "      <th>other_disease</th>\n",
       "      <th>cardiovascular</th>\n",
       "      <th>obesity</th>\n",
       "      <th>renal_chronic</th>\n",
       "      <th>tobacco</th>\n",
       "      <th>contact_other_covid</th>\n",
       "      <th>covid_res</th>\n",
       "      <th>icu</th>\n",
       "    </tr>\n",
       "    <tr>\n",
       "      <th>id</th>\n",
       "      <th></th>\n",
       "      <th></th>\n",
       "      <th></th>\n",
       "      <th></th>\n",
       "      <th></th>\n",
       "      <th></th>\n",
       "      <th></th>\n",
       "      <th></th>\n",
       "      <th></th>\n",
       "      <th></th>\n",
       "      <th></th>\n",
       "      <th></th>\n",
       "      <th></th>\n",
       "      <th></th>\n",
       "      <th></th>\n",
       "      <th></th>\n",
       "      <th></th>\n",
       "      <th></th>\n",
       "      <th></th>\n",
       "      <th></th>\n",
       "      <th></th>\n",
       "    </tr>\n",
       "  </thead>\n",
       "  <tbody>\n",
       "    <tr>\n",
       "      <th>1b5791</th>\n",
       "      <td>Male</td>\n",
       "      <td>Outpatient</td>\n",
       "      <td>16-06-2020</td>\n",
       "      <td>15-06-2020</td>\n",
       "      <td>NaN</td>\n",
       "      <td>NaN</td>\n",
       "      <td>No</td>\n",
       "      <td>43</td>\n",
       "      <td>NaN</td>\n",
       "      <td>No</td>\n",
       "      <td>...</td>\n",
       "      <td>No</td>\n",
       "      <td>No</td>\n",
       "      <td>No</td>\n",
       "      <td>No</td>\n",
       "      <td>No</td>\n",
       "      <td>No</td>\n",
       "      <td>No</td>\n",
       "      <td>No</td>\n",
       "      <td>Negative</td>\n",
       "      <td>NaN</td>\n",
       "    </tr>\n",
       "    <tr>\n",
       "      <th>15b33c</th>\n",
       "      <td>Male</td>\n",
       "      <td>Inpatient</td>\n",
       "      <td>05-05-2020</td>\n",
       "      <td>24-04-2020</td>\n",
       "      <td>NaN</td>\n",
       "      <td>No</td>\n",
       "      <td>Yes</td>\n",
       "      <td>31</td>\n",
       "      <td>NaN</td>\n",
       "      <td>No</td>\n",
       "      <td>...</td>\n",
       "      <td>No</td>\n",
       "      <td>No</td>\n",
       "      <td>No</td>\n",
       "      <td>No</td>\n",
       "      <td>No</td>\n",
       "      <td>No</td>\n",
       "      <td>No</td>\n",
       "      <td>No</td>\n",
       "      <td>Positive</td>\n",
       "      <td>No</td>\n",
       "    </tr>\n",
       "    <tr>\n",
       "      <th>14fa3f</th>\n",
       "      <td>Male</td>\n",
       "      <td>Outpatient</td>\n",
       "      <td>26-05-2020</td>\n",
       "      <td>22-05-2020</td>\n",
       "      <td>NaN</td>\n",
       "      <td>NaN</td>\n",
       "      <td>No</td>\n",
       "      <td>24</td>\n",
       "      <td>NaN</td>\n",
       "      <td>No</td>\n",
       "      <td>...</td>\n",
       "      <td>No</td>\n",
       "      <td>No</td>\n",
       "      <td>No</td>\n",
       "      <td>No</td>\n",
       "      <td>No</td>\n",
       "      <td>No</td>\n",
       "      <td>No</td>\n",
       "      <td>Yes</td>\n",
       "      <td>Negative</td>\n",
       "      <td>NaN</td>\n",
       "    </tr>\n",
       "    <tr>\n",
       "      <th>09e1c3</th>\n",
       "      <td>Female</td>\n",
       "      <td>Outpatient</td>\n",
       "      <td>08-05-2020</td>\n",
       "      <td>05-05-2020</td>\n",
       "      <td>NaN</td>\n",
       "      <td>NaN</td>\n",
       "      <td>No</td>\n",
       "      <td>42</td>\n",
       "      <td>No</td>\n",
       "      <td>No</td>\n",
       "      <td>...</td>\n",
       "      <td>No</td>\n",
       "      <td>No</td>\n",
       "      <td>No</td>\n",
       "      <td>No</td>\n",
       "      <td>No</td>\n",
       "      <td>No</td>\n",
       "      <td>No</td>\n",
       "      <td>Yes</td>\n",
       "      <td>Negative</td>\n",
       "      <td>NaN</td>\n",
       "    </tr>\n",
       "    <tr>\n",
       "      <th>16d40b</th>\n",
       "      <td>Female</td>\n",
       "      <td>Outpatient</td>\n",
       "      <td>16-04-2020</td>\n",
       "      <td>16-04-2020</td>\n",
       "      <td>NaN</td>\n",
       "      <td>NaN</td>\n",
       "      <td>No</td>\n",
       "      <td>24</td>\n",
       "      <td>No</td>\n",
       "      <td>No</td>\n",
       "      <td>...</td>\n",
       "      <td>No</td>\n",
       "      <td>No</td>\n",
       "      <td>No</td>\n",
       "      <td>No</td>\n",
       "      <td>No</td>\n",
       "      <td>No</td>\n",
       "      <td>No</td>\n",
       "      <td>No</td>\n",
       "      <td>Negative</td>\n",
       "      <td>NaN</td>\n",
       "    </tr>\n",
       "  </tbody>\n",
       "</table>\n",
       "<p>5 rows × 22 columns</p>\n",
       "</div>"
      ],
      "text/plain": [
       "           sex patient_type  entry_date date_symptoms date_died intubed  \\\n",
       "id                                                                        \n",
       "1b5791    Male   Outpatient  16-06-2020    15-06-2020       NaN     NaN   \n",
       "15b33c    Male    Inpatient  05-05-2020    24-04-2020       NaN      No   \n",
       "14fa3f    Male   Outpatient  26-05-2020    22-05-2020       NaN     NaN   \n",
       "09e1c3  Female   Outpatient  08-05-2020    05-05-2020       NaN     NaN   \n",
       "16d40b  Female   Outpatient  16-04-2020    16-04-2020       NaN     NaN   \n",
       "\n",
       "       pneumonia  age pregnancy diabetes  ... inmsupr hypertension  \\\n",
       "id                                        ...                        \n",
       "1b5791        No   43       NaN       No  ...      No           No   \n",
       "15b33c       Yes   31       NaN       No  ...      No           No   \n",
       "14fa3f        No   24       NaN       No  ...      No           No   \n",
       "09e1c3        No   42        No       No  ...      No           No   \n",
       "16d40b        No   24        No       No  ...      No           No   \n",
       "\n",
       "       other_disease cardiovascular obesity renal_chronic tobacco  \\\n",
       "id                                                                  \n",
       "1b5791            No             No      No            No      No   \n",
       "15b33c            No             No      No            No      No   \n",
       "14fa3f            No             No      No            No      No   \n",
       "09e1c3            No             No      No            No      No   \n",
       "16d40b            No             No      No            No      No   \n",
       "\n",
       "       contact_other_covid covid_res  icu  \n",
       "id                                         \n",
       "1b5791                  No  Negative  NaN  \n",
       "15b33c                  No  Positive   No  \n",
       "14fa3f                 Yes  Negative  NaN  \n",
       "09e1c3                 Yes  Negative  NaN  \n",
       "16d40b                  No  Negative  NaN  \n",
       "\n",
       "[5 rows x 22 columns]"
      ]
     },
     "execution_count": 357,
     "metadata": {},
     "output_type": "execute_result"
    }
   ],
   "source": [
    "df.tail()"
   ]
  },
  {
   "cell_type": "code",
   "execution_count": 358,
   "metadata": {},
   "outputs": [
    {
     "data": {
      "text/plain": [
       "(10000, 22)"
      ]
     },
     "execution_count": 358,
     "metadata": {},
     "output_type": "execute_result"
    }
   ],
   "source": [
    "df.shape"
   ]
  },
  {
   "cell_type": "code",
   "execution_count": 359,
   "metadata": {},
   "outputs": [
    {
     "data": {
      "text/plain": [
       "Index(['sex', 'patient_type', 'entry_date', 'date_symptoms', 'date_died',\n",
       "       'intubed', 'pneumonia', 'age', 'pregnancy', 'diabetes', 'copd',\n",
       "       'asthma', 'inmsupr', 'hypertension', 'other_disease', 'cardiovascular',\n",
       "       'obesity', 'renal_chronic', 'tobacco', 'contact_other_covid',\n",
       "       'covid_res', 'icu'],\n",
       "      dtype='object')"
      ]
     },
     "execution_count": 359,
     "metadata": {},
     "output_type": "execute_result"
    }
   ],
   "source": [
    "df.columns"
   ]
  },
  {
   "cell_type": "code",
   "execution_count": 360,
   "metadata": {},
   "outputs": [
    {
     "name": "stdout",
     "output_type": "stream",
     "text": [
      "<class 'pandas.core.frame.DataFrame'>\n",
      "Index: 10000 entries, 0dd249 to 16d40b\n",
      "Data columns (total 22 columns):\n",
      " #   Column               Non-Null Count  Dtype \n",
      "---  ------               --------------  ----- \n",
      " 0   sex                  10000 non-null  object\n",
      " 1   patient_type         10000 non-null  object\n",
      " 2   entry_date           10000 non-null  object\n",
      " 3   date_symptoms        10000 non-null  object\n",
      " 4   date_died            639 non-null    object\n",
      " 5   intubed              2137 non-null   object\n",
      " 6   pneumonia            9999 non-null   object\n",
      " 7   age                  10000 non-null  int64 \n",
      " 8   pregnancy            4841 non-null   object\n",
      " 9   diabetes             9965 non-null   object\n",
      " 10  copd                 9969 non-null   object\n",
      " 11  asthma               9968 non-null   object\n",
      " 12  inmsupr              9966 non-null   object\n",
      " 13  hypertension         9968 non-null   object\n",
      " 14  other_disease        9956 non-null   object\n",
      " 15  cardiovascular       9966 non-null   object\n",
      " 16  obesity              9969 non-null   object\n",
      " 17  renal_chronic        9967 non-null   object\n",
      " 18  tobacco              9966 non-null   object\n",
      " 19  contact_other_covid  6893 non-null   object\n",
      " 20  covid_res            10000 non-null  object\n",
      " 21  icu                  2137 non-null   object\n",
      "dtypes: int64(1), object(21)\n",
      "memory usage: 1.8+ MB\n"
     ]
    }
   ],
   "source": [
    "df.info()"
   ]
  },
  {
   "cell_type": "markdown",
   "metadata": {},
   "source": [
    "   **Step 1: Data Preparation**"
   ]
  },
  {
   "cell_type": "markdown",
   "metadata": {},
   "source": [
    "* **Data Types Conversions from Object to DateTime**"
   ]
  },
  {
   "cell_type": "code",
   "execution_count": 361,
   "metadata": {},
   "outputs": [],
   "source": [
    "df['entry_date']= pd.to_datetime(df['entry_date'])\n",
    "df['date_symptoms']= pd.to_datetime(df['date_symptoms'])\n",
    "df['date_died']= pd.to_datetime(df['date_died'])"
   ]
  },
  {
   "cell_type": "code",
   "execution_count": 362,
   "metadata": {},
   "outputs": [
    {
     "name": "stdout",
     "output_type": "stream",
     "text": [
      "<class 'pandas.core.frame.DataFrame'>\n",
      "Index: 10000 entries, 0dd249 to 16d40b\n",
      "Data columns (total 22 columns):\n",
      " #   Column               Non-Null Count  Dtype         \n",
      "---  ------               --------------  -----         \n",
      " 0   sex                  10000 non-null  object        \n",
      " 1   patient_type         10000 non-null  object        \n",
      " 2   entry_date           10000 non-null  datetime64[ns]\n",
      " 3   date_symptoms        10000 non-null  datetime64[ns]\n",
      " 4   date_died            639 non-null    datetime64[ns]\n",
      " 5   intubed              2137 non-null   object        \n",
      " 6   pneumonia            9999 non-null   object        \n",
      " 7   age                  10000 non-null  int64         \n",
      " 8   pregnancy            4841 non-null   object        \n",
      " 9   diabetes             9965 non-null   object        \n",
      " 10  copd                 9969 non-null   object        \n",
      " 11  asthma               9968 non-null   object        \n",
      " 12  inmsupr              9966 non-null   object        \n",
      " 13  hypertension         9968 non-null   object        \n",
      " 14  other_disease        9956 non-null   object        \n",
      " 15  cardiovascular       9966 non-null   object        \n",
      " 16  obesity              9969 non-null   object        \n",
      " 17  renal_chronic        9967 non-null   object        \n",
      " 18  tobacco              9966 non-null   object        \n",
      " 19  contact_other_covid  6893 non-null   object        \n",
      " 20  covid_res            10000 non-null  object        \n",
      " 21  icu                  2137 non-null   object        \n",
      "dtypes: datetime64[ns](3), int64(1), object(18)\n",
      "memory usage: 1.8+ MB\n"
     ]
    }
   ],
   "source": [
    "df.info()"
   ]
  },
  {
   "cell_type": "markdown",
   "metadata": {},
   "source": [
    "   * **Detecting and dealing with Missing Values**"
   ]
  },
  {
   "cell_type": "code",
   "execution_count": 363,
   "metadata": {},
   "outputs": [
    {
     "data": {
      "text/plain": [
       "sex                       0\n",
       "patient_type              0\n",
       "entry_date                0\n",
       "date_symptoms             0\n",
       "date_died              9361\n",
       "intubed                7863\n",
       "pneumonia                 1\n",
       "age                       0\n",
       "pregnancy              5159\n",
       "diabetes                 35\n",
       "copd                     31\n",
       "asthma                   32\n",
       "inmsupr                  34\n",
       "hypertension             32\n",
       "other_disease            44\n",
       "cardiovascular           34\n",
       "obesity                  31\n",
       "renal_chronic            33\n",
       "tobacco                  34\n",
       "contact_other_covid    3107\n",
       "covid_res                 0\n",
       "icu                    7863\n",
       "dtype: int64"
      ]
     },
     "execution_count": 363,
     "metadata": {},
     "output_type": "execute_result"
    }
   ],
   "source": [
    "df.isnull().sum()"
   ]
  },
  {
   "cell_type": "code",
   "execution_count": 364,
   "metadata": {},
   "outputs": [
    {
     "data": {
      "text/plain": [
       "sex                       0\n",
       "patient_type              0\n",
       "entry_date                0\n",
       "date_symptoms             0\n",
       "date_died              9361\n",
       "intubed                7863\n",
       "pneumonia                 1\n",
       "age                       0\n",
       "pregnancy              5159\n",
       "diabetes                 35\n",
       "copd                     31\n",
       "asthma                   32\n",
       "inmsupr                  34\n",
       "hypertension             32\n",
       "other_disease            44\n",
       "cardiovascular           34\n",
       "obesity                  31\n",
       "renal_chronic            33\n",
       "tobacco                  34\n",
       "contact_other_covid    3107\n",
       "covid_res                 0\n",
       "icu                    7863\n",
       "dtype: int64"
      ]
     },
     "execution_count": 364,
     "metadata": {},
     "output_type": "execute_result"
    }
   ],
   "source": [
    "df.isna().sum()"
   ]
  },
  {
   "cell_type": "markdown",
   "metadata": {},
   "source": [
    "* **Imputing all categorical variables with the mode**"
   ]
  },
  {
   "cell_type": "code",
   "execution_count": 365,
   "metadata": {},
   "outputs": [],
   "source": [
    "df['intubed']=df['intubed'].fillna(df['intubed'].mode()[0])\n",
    "df['pregnancy']=df['pregnancy'].fillna(df['pregnancy'].mode()[0])\n",
    "df['contact_other_covid']=df['contact_other_covid'].fillna(df['contact_other_covid'].mode()[0])\n",
    "df['pneumonia']=df['pneumonia'].fillna(df['pneumonia'].mode()[0])\n",
    "df['diabetes']=df['diabetes'].fillna(df['diabetes'].mode()[0])\n",
    "df['icu']=df['icu'].fillna(df['icu'].mode()[0])\n",
    "df['copd']=df['copd'].fillna(df['copd'].mode()[0])\n",
    "df['asthma']=df['asthma'].fillna(df['copd'].mode()[0])\n",
    "df['inmsupr']=df['inmsupr'].fillna(df['inmsupr'].mode()[0])\n",
    "df['hypertension']=df['hypertension'].fillna(df['hypertension'].mode()[0])\n",
    "df['other_disease']=df['other_disease'].fillna(df['other_disease'].mode()[0])\n",
    "df['cardiovascular']=df['cardiovascular'].fillna(df['cardiovascular'].mode()[0])\n",
    "df['obesity']=df['obesity'].fillna(df['obesity'].mode()[0])\n",
    "df['renal_chronic']=df['renal_chronic'].fillna(df['renal_chronic'].mode()[0])\n",
    "df['tobacco']=df['tobacco'].fillna(df['tobacco'].mode()[0])"
   ]
  },
  {
   "cell_type": "code",
   "execution_count": 366,
   "metadata": {},
   "outputs": [
    {
     "data": {
      "text/plain": [
       "sex                       0\n",
       "patient_type              0\n",
       "entry_date                0\n",
       "date_symptoms             0\n",
       "date_died              9361\n",
       "intubed                   0\n",
       "pneumonia                 0\n",
       "age                       0\n",
       "pregnancy                 0\n",
       "diabetes                  0\n",
       "copd                      0\n",
       "asthma                    0\n",
       "inmsupr                   0\n",
       "hypertension              0\n",
       "other_disease             0\n",
       "cardiovascular            0\n",
       "obesity                   0\n",
       "renal_chronic             0\n",
       "tobacco                   0\n",
       "contact_other_covid       0\n",
       "covid_res                 0\n",
       "icu                       0\n",
       "dtype: int64"
      ]
     },
     "execution_count": 366,
     "metadata": {},
     "output_type": "execute_result"
    }
   ],
   "source": [
    "df.isna().sum()"
   ]
  },
  {
   "cell_type": "code",
   "execution_count": 367,
   "metadata": {},
   "outputs": [
    {
     "data": {
      "text/plain": [
       "sex                       0\n",
       "patient_type              0\n",
       "entry_date                0\n",
       "date_symptoms             0\n",
       "date_died              9361\n",
       "intubed                   0\n",
       "pneumonia                 0\n",
       "age                       0\n",
       "pregnancy                 0\n",
       "diabetes                  0\n",
       "copd                      0\n",
       "asthma                    0\n",
       "inmsupr                   0\n",
       "hypertension              0\n",
       "other_disease             0\n",
       "cardiovascular            0\n",
       "obesity                   0\n",
       "renal_chronic             0\n",
       "tobacco                   0\n",
       "contact_other_covid       0\n",
       "covid_res                 0\n",
       "icu                       0\n",
       "dtype: int64"
      ]
     },
     "execution_count": 367,
     "metadata": {},
     "output_type": "execute_result"
    }
   ],
   "source": [
    "df.isna().sum()"
   ]
  },
  {
   "cell_type": "markdown",
   "metadata": {},
   "source": [
    "  * **Checking for and removing duplicates**"
   ]
  },
  {
   "cell_type": "code",
   "execution_count": 368,
   "metadata": {},
   "outputs": [
    {
     "data": {
      "text/plain": [
       "79"
      ]
     },
     "execution_count": 368,
     "metadata": {},
     "output_type": "execute_result"
    }
   ],
   "source": [
    "df.duplicated().sum()"
   ]
  },
  {
   "cell_type": "code",
   "execution_count": 369,
   "metadata": {},
   "outputs": [],
   "source": [
    "df.drop_duplicates( inplace=True, keep = 'first')"
   ]
  },
  {
   "cell_type": "code",
   "execution_count": 370,
   "metadata": {},
   "outputs": [
    {
     "name": "stdout",
     "output_type": "stream",
     "text": [
      "No duplicate rows found\n"
     ]
    }
   ],
   "source": [
    "# Check for duplicates in the entire DataFrame\n",
    "duplicates = df[df.duplicated()]\n",
    "\n",
    "# If 'duplicates' DataFrame is not empty, it means there are duplicate rows in 'df'\n",
    "if not duplicates.empty:\n",
    "    print(\"Duplicate rows found:\")\n",
    "    print(duplicates)\n",
    "else:\n",
    "    print(\"No duplicate rows found\")"
   ]
  },
  {
   "cell_type": "markdown",
   "metadata": {},
   "source": [
    "  * **Cleaning variations of Males & females**"
   ]
  },
  {
   "cell_type": "code",
   "execution_count": 371,
   "metadata": {},
   "outputs": [
    {
     "data": {
      "text/plain": [
       "0"
      ]
     },
     "execution_count": 371,
     "metadata": {},
     "output_type": "execute_result"
    }
   ],
   "source": [
    "df.duplicated().sum()"
   ]
  },
  {
   "cell_type": "code",
   "execution_count": 372,
   "metadata": {},
   "outputs": [
    {
     "data": {
      "text/plain": [
       "sex                      4\n",
       "patient_type             2\n",
       "entry_date             140\n",
       "date_symptoms          145\n",
       "date_died               87\n",
       "intubed                  2\n",
       "pneumonia                2\n",
       "age                    110\n",
       "pregnancy                2\n",
       "diabetes                 2\n",
       "copd                     2\n",
       "asthma                   2\n",
       "inmsupr                  2\n",
       "hypertension             2\n",
       "other_disease            2\n",
       "cardiovascular           2\n",
       "obesity                  2\n",
       "renal_chronic            2\n",
       "tobacco                  2\n",
       "contact_other_covid      2\n",
       "covid_res                3\n",
       "icu                      2\n",
       "dtype: int64"
      ]
     },
     "execution_count": 372,
     "metadata": {},
     "output_type": "execute_result"
    }
   ],
   "source": [
    "df.nunique()"
   ]
  },
  {
   "cell_type": "code",
   "execution_count": 373,
   "metadata": {},
   "outputs": [
    {
     "data": {
      "text/plain": [
       "Male       5035\n",
       "Female     4723\n",
       "Femalee     111\n",
       "Males        52\n",
       "Name: sex, dtype: int64"
      ]
     },
     "execution_count": 373,
     "metadata": {},
     "output_type": "execute_result"
    }
   ],
   "source": [
    "df['sex'].value_counts()"
   ]
  },
  {
   "cell_type": "code",
   "execution_count": 374,
   "metadata": {},
   "outputs": [],
   "source": [
    "df['sex']=df['sex'].replace({'Males': 'Male','Femalee':'Female'})"
   ]
  },
  {
   "cell_type": "code",
   "execution_count": 375,
   "metadata": {},
   "outputs": [
    {
     "data": {
      "text/plain": [
       "Male      5087\n",
       "Female    4834\n",
       "Name: sex, dtype: int64"
      ]
     },
     "execution_count": 375,
     "metadata": {},
     "output_type": "execute_result"
    }
   ],
   "source": [
    "df['sex'].value_counts()"
   ]
  },
  {
   "cell_type": "markdown",
   "metadata": {},
   "source": [
    "  * **Checking for Outliers and handling them**"
   ]
  },
  {
   "cell_type": "code",
   "execution_count": 376,
   "metadata": {},
   "outputs": [
    {
     "data": {
      "text/html": [
       "<div>\n",
       "<style scoped>\n",
       "    .dataframe tbody tr th:only-of-type {\n",
       "        vertical-align: middle;\n",
       "    }\n",
       "\n",
       "    .dataframe tbody tr th {\n",
       "        vertical-align: top;\n",
       "    }\n",
       "\n",
       "    .dataframe thead th {\n",
       "        text-align: right;\n",
       "    }\n",
       "</style>\n",
       "<table border=\"1\" class=\"dataframe\">\n",
       "  <thead>\n",
       "    <tr style=\"text-align: right;\">\n",
       "      <th></th>\n",
       "      <th>age</th>\n",
       "    </tr>\n",
       "  </thead>\n",
       "  <tbody>\n",
       "    <tr>\n",
       "      <th>count</th>\n",
       "      <td>9921.000000</td>\n",
       "    </tr>\n",
       "    <tr>\n",
       "      <th>mean</th>\n",
       "      <td>42.829957</td>\n",
       "    </tr>\n",
       "    <tr>\n",
       "      <th>std</th>\n",
       "      <td>19.682884</td>\n",
       "    </tr>\n",
       "    <tr>\n",
       "      <th>min</th>\n",
       "      <td>-67.000000</td>\n",
       "    </tr>\n",
       "    <tr>\n",
       "      <th>25%</th>\n",
       "      <td>31.000000</td>\n",
       "    </tr>\n",
       "    <tr>\n",
       "      <th>50%</th>\n",
       "      <td>41.000000</td>\n",
       "    </tr>\n",
       "    <tr>\n",
       "      <th>75%</th>\n",
       "      <td>53.000000</td>\n",
       "    </tr>\n",
       "    <tr>\n",
       "      <th>max</th>\n",
       "      <td>856.000000</td>\n",
       "    </tr>\n",
       "  </tbody>\n",
       "</table>\n",
       "</div>"
      ],
      "text/plain": [
       "               age\n",
       "count  9921.000000\n",
       "mean     42.829957\n",
       "std      19.682884\n",
       "min     -67.000000\n",
       "25%      31.000000\n",
       "50%      41.000000\n",
       "75%      53.000000\n",
       "max     856.000000"
      ]
     },
     "execution_count": 376,
     "metadata": {},
     "output_type": "execute_result"
    }
   ],
   "source": [
    "df.describe()"
   ]
  },
  {
   "cell_type": "markdown",
   "metadata": {},
   "source": [
    "Filtering out -ve ages and ages above 90"
   ]
  },
  {
   "cell_type": "code",
   "execution_count": 377,
   "metadata": {},
   "outputs": [],
   "source": [
    "df_filtered = df[(df['age']>=0)&(df['age']<=100)]"
   ]
  },
  {
   "cell_type": "code",
   "execution_count": 378,
   "metadata": {},
   "outputs": [
    {
     "data": {
      "text/html": [
       "<div>\n",
       "<style scoped>\n",
       "    .dataframe tbody tr th:only-of-type {\n",
       "        vertical-align: middle;\n",
       "    }\n",
       "\n",
       "    .dataframe tbody tr th {\n",
       "        vertical-align: top;\n",
       "    }\n",
       "\n",
       "    .dataframe thead th {\n",
       "        text-align: right;\n",
       "    }\n",
       "</style>\n",
       "<table border=\"1\" class=\"dataframe\">\n",
       "  <thead>\n",
       "    <tr style=\"text-align: right;\">\n",
       "      <th></th>\n",
       "      <th>age</th>\n",
       "    </tr>\n",
       "  </thead>\n",
       "  <tbody>\n",
       "    <tr>\n",
       "      <th>count</th>\n",
       "      <td>9912.000000</td>\n",
       "    </tr>\n",
       "    <tr>\n",
       "      <th>mean</th>\n",
       "      <td>42.664952</td>\n",
       "    </tr>\n",
       "    <tr>\n",
       "      <th>std</th>\n",
       "      <td>16.847007</td>\n",
       "    </tr>\n",
       "    <tr>\n",
       "      <th>min</th>\n",
       "      <td>0.000000</td>\n",
       "    </tr>\n",
       "    <tr>\n",
       "      <th>25%</th>\n",
       "      <td>31.000000</td>\n",
       "    </tr>\n",
       "    <tr>\n",
       "      <th>50%</th>\n",
       "      <td>41.000000</td>\n",
       "    </tr>\n",
       "    <tr>\n",
       "      <th>75%</th>\n",
       "      <td>53.000000</td>\n",
       "    </tr>\n",
       "    <tr>\n",
       "      <th>max</th>\n",
       "      <td>100.000000</td>\n",
       "    </tr>\n",
       "  </tbody>\n",
       "</table>\n",
       "</div>"
      ],
      "text/plain": [
       "               age\n",
       "count  9912.000000\n",
       "mean     42.664952\n",
       "std      16.847007\n",
       "min       0.000000\n",
       "25%      31.000000\n",
       "50%      41.000000\n",
       "75%      53.000000\n",
       "max     100.000000"
      ]
     },
     "execution_count": 378,
     "metadata": {},
     "output_type": "execute_result"
    }
   ],
   "source": [
    "df_filtered.describe()"
   ]
  },
  {
   "cell_type": "code",
   "execution_count": 379,
   "metadata": {},
   "outputs": [
    {
     "data": {
      "text/plain": [
       "(9912, 22)"
      ]
     },
     "execution_count": 379,
     "metadata": {},
     "output_type": "execute_result"
    }
   ],
   "source": [
    "df_filtered.shape"
   ]
  },
  {
   "cell_type": "markdown",
   "metadata": {},
   "source": [
    "* **Exporting Cleaned dataset**"
   ]
  },
  {
   "cell_type": "code",
   "execution_count": 380,
   "metadata": {},
   "outputs": [],
   "source": [
    "df_filtered.to_csv('Cleaned_df.csv',index=False)"
   ]
  },
  {
   "cell_type": "markdown",
   "metadata": {},
   "source": [
    "**Step 2: Data Exploration(EDA)**"
   ]
  },
  {
   "cell_type": "code",
   "execution_count": 381,
   "metadata": {},
   "outputs": [],
   "source": [
    "df = df_filtered"
   ]
  },
  {
   "cell_type": "markdown",
   "metadata": {},
   "source": [
    "**Feature Engineering**"
   ]
  },
  {
   "cell_type": "markdown",
   "metadata": {},
   "source": [
    "* Creating a column called dead\n",
    "* creating a column called age_groups"
   ]
  },
  {
   "cell_type": "code",
   "execution_count": 382,
   "metadata": {},
   "outputs": [],
   "source": [
    "# Create a new column 'dead' indicating whether a person is dead\n",
    "df['dead'] = df['date_died'].apply(lambda x: 'Yes' if pd.notnull(x) else 'No')\n",
    "\n",
    "# Define age ranges and labels\n",
    "age_bins = [0, 18, 30, 50, 70, 90, float('inf')]\n",
    "age_labels = ['0-17', '18-29', '30-49', '50-69', '70-89', '90+']\n",
    "\n",
    "# Create 'age_groups' column based on age ranges\n",
    "df['age_groups'] = pd.cut(df['age'], bins=age_bins, labels=age_labels, right=False)"
   ]
  },
  {
   "cell_type": "code",
   "execution_count": 383,
   "metadata": {},
   "outputs": [],
   "source": [
    "df['date_symptoms'] = pd.to_datetime(df['date_symptoms'], errors='coerce')\n",
    "df['symptom_month'] = df['date_symptoms'].dt.month"
   ]
  },
  {
   "cell_type": "markdown",
   "metadata": {},
   "source": [
    "**Univariate Analysis**"
   ]
  },
  {
   "cell_type": "code",
   "execution_count": 384,
   "metadata": {},
   "outputs": [
    {
     "data": {
      "text/html": [
       "<div>\n",
       "<style scoped>\n",
       "    .dataframe tbody tr th:only-of-type {\n",
       "        vertical-align: middle;\n",
       "    }\n",
       "\n",
       "    .dataframe tbody tr th {\n",
       "        vertical-align: top;\n",
       "    }\n",
       "\n",
       "    .dataframe thead th {\n",
       "        text-align: right;\n",
       "    }\n",
       "</style>\n",
       "<table border=\"1\" class=\"dataframe\">\n",
       "  <thead>\n",
       "    <tr style=\"text-align: right;\">\n",
       "      <th></th>\n",
       "      <th>age</th>\n",
       "      <th>symptom_month</th>\n",
       "    </tr>\n",
       "  </thead>\n",
       "  <tbody>\n",
       "    <tr>\n",
       "      <th>count</th>\n",
       "      <td>9912.000000</td>\n",
       "      <td>9912.000000</td>\n",
       "    </tr>\n",
       "    <tr>\n",
       "      <th>mean</th>\n",
       "      <td>42.664952</td>\n",
       "      <td>5.667272</td>\n",
       "    </tr>\n",
       "    <tr>\n",
       "      <th>std</th>\n",
       "      <td>16.847007</td>\n",
       "      <td>2.388565</td>\n",
       "    </tr>\n",
       "    <tr>\n",
       "      <th>min</th>\n",
       "      <td>0.000000</td>\n",
       "      <td>1.000000</td>\n",
       "    </tr>\n",
       "    <tr>\n",
       "      <th>25%</th>\n",
       "      <td>31.000000</td>\n",
       "      <td>4.000000</td>\n",
       "    </tr>\n",
       "    <tr>\n",
       "      <th>50%</th>\n",
       "      <td>41.000000</td>\n",
       "      <td>5.000000</td>\n",
       "    </tr>\n",
       "    <tr>\n",
       "      <th>75%</th>\n",
       "      <td>53.000000</td>\n",
       "      <td>6.000000</td>\n",
       "    </tr>\n",
       "    <tr>\n",
       "      <th>max</th>\n",
       "      <td>100.000000</td>\n",
       "      <td>12.000000</td>\n",
       "    </tr>\n",
       "  </tbody>\n",
       "</table>\n",
       "</div>"
      ],
      "text/plain": [
       "               age  symptom_month\n",
       "count  9912.000000    9912.000000\n",
       "mean     42.664952       5.667272\n",
       "std      16.847007       2.388565\n",
       "min       0.000000       1.000000\n",
       "25%      31.000000       4.000000\n",
       "50%      41.000000       5.000000\n",
       "75%      53.000000       6.000000\n",
       "max     100.000000      12.000000"
      ]
     },
     "execution_count": 384,
     "metadata": {},
     "output_type": "execute_result"
    }
   ],
   "source": [
    "df.describe()"
   ]
  },
  {
   "cell_type": "code",
   "execution_count": 385,
   "metadata": {},
   "outputs": [
    {
     "data": {
      "image/png": "[encoded data removed]",
      "text/plain": [
       "<Figure size 576x432 with 1 Axes>"
      ]
     },
     "metadata": {
      "needs_background": "light"
     },
     "output_type": "display_data"
    }
   ],
   "source": [
    "# Plotting\n",
    "plt.figure(figsize=(8, 6))\n",
    "ax=df['covid_res'].value_counts().plot(kind='bar', color=['green', 'red', 'blue'])\n",
    "\n",
    "# Adding labels and title\n",
    "plt.xlabel('Case Status')\n",
    "plt.ylabel('Number of Cases')\n",
    "plt.title('Distribution of Cases by Status')\n",
    "\n",
    "# Adding data labels\n",
    "for p in ax.patches:\n",
    "    ax.annotate(f'{p.get_height()}', (p.get_x() + p.get_width() / 2., p.get_height()), ha='center', va='center', xytext=(0, 10), textcoords='offset points')\n",
    "\n",
    "# Show plot\n",
    "plt.xticks(rotation=0)\n",
    "plt.tight_layout()\n",
    "plt.show()"
   ]
  },
  {
   "cell_type": "code",
   "execution_count": 386,
   "metadata": {},
   "outputs": [
    {
     "data": {
      "image/png": "[encoded data removed]",
      "text/plain": [
       "<Figure size 1296x1728 with 18 Axes>"
      ]
     },
     "metadata": {
      "needs_background": "light"
     },
     "output_type": "display_data"
    }
   ],
   "source": [
    "import seaborn as sns\n",
    "import matplotlib.pyplot as plt\n",
    "# Define binary categorical variables\n",
    "binary_categorical_vars = ['sex','patient_type','intubed', 'pneumonia', 'pregnancy', 'diabetes', 'copd', 'asthma',\n",
    "                           'inmsupr', 'hypertension', 'other_disease', 'cardiovascular', 'obesity', 'renal_chronic',\n",
    "                           'tobacco', 'contact_other_covid', 'icu','dead']\n",
    "\n",
    "# Set up the figure and axes\n",
    "fig, axes = plt.subplots(nrows=6, ncols=3, figsize=(18, 24))\n",
    "\n",
    "# Flatten the axes array for easy iteration\n",
    "axes = axes.flatten()\n",
    "\n",
    "# Loop over each binary categorical variable\n",
    "for i, var in enumerate(binary_categorical_vars):\n",
    "    # Calculate counts of each category in the variable\n",
    "    counts = df[var].value_counts()\n",
    "\n",
    "    # Sort counts in descending order\n",
    "    counts = counts.sort_values(ascending=False)\n",
    "\n",
    "    # Plot the count of each category in the variable\n",
    "    ax = sns.countplot(x=var, data=df, ax=axes[i], order=counts.index)\n",
    "    axes[i].set_title(f'{var} Overall distribution ')\n",
    "    axes[i].set_xlabel('')\n",
    "    axes[i].set_ylabel('Count of clients in the dataset')\n",
    "\n",
    "    # Add data labels to the bars\n",
    "    for p in ax.patches:\n",
    "        ax.annotate(f'{p.get_height()}', (p.get_x() + p.get_width() / 2., p.get_height()),\n",
    "                    ha='center', va='bottom', fontsize=8)\n",
    "\n",
    "# Remove any unused axes\n",
    "for j in range(len(binary_categorical_vars), len(axes)):\n",
    "    fig.delaxes(axes[j])\n",
    "\n",
    "# Adjust layout\n",
    "plt.tight_layout()\n",
    "plt.show()\n"
   ]
  },
  {
   "cell_type": "markdown",
   "metadata": {},
   "source": [
    "**Bivariate Analysis**"
   ]
  },
  {
   "cell_type": "code",
   "execution_count": 387,
   "metadata": {},
   "outputs": [
    {
     "data": {
      "image/png": "[encoded data removed]",
      "text/plain": [
       "<Figure size 720x432 with 1 Axes>"
      ]
     },
     "metadata": {
      "needs_background": "light"
     },
     "output_type": "display_data"
    }
   ],
   "source": [
    "import pandas as pd\n",
    "import matplotlib.pyplot as plt\n",
    "\n",
    "# Group by age range and count the number of deaths\n",
    "death_ranges = df.groupby(['age_groups', 'dead']).size().unstack(fill_value=0)\n",
    "\n",
    "# Sort by sum of deaths for each age group\n",
    "death_ranges_sum = death_ranges.sum(axis=1)\n",
    "death_ranges_sorted = death_ranges_sum.sort_values(ascending=False)\n",
    "death_ranges_sorted_index = death_ranges_sorted.index\n",
    "\n",
    "# Reorder the rows based on the sorted index\n",
    "death_ranges_sorted = death_ranges.reindex(death_ranges_sorted_index)\n",
    "\n",
    "# Plotting\n",
    "ax = death_ranges_sorted.plot(kind='bar', stacked=False, figsize=(10, 6), color=['green', 'red'])\n",
    "\n",
    "# Adding data labels\n",
    "for p in ax.patches:\n",
    "    ax.annotate(str(p.get_height()), (p.get_x() * 1.005, p.get_height() * 1.005))\n",
    "\n",
    "# Adding labels and title\n",
    "plt.xlabel('Age Groups')\n",
    "plt.ylabel('Number of Cases')\n",
    "plt.title('Death Rates Cases by Age Groups')\n",
    "plt.xticks(rotation=45)  # Rotate x-axis labels for better readability\n",
    "plt.legend(title='Dead', loc='upper right')\n",
    "\n",
    "# Show plot\n",
    "plt.tight_layout()\n",
    "plt.show()\n"
   ]
  },
  {
   "cell_type": "code",
   "execution_count": 388,
   "metadata": {},
   "outputs": [
    {
     "data": {
      "image/png": "[encoded data removed]",
      "text/plain": [
       "<Figure size 576x432 with 1 Axes>"
      ]
     },
     "metadata": {},
     "output_type": "display_data"
    }
   ],
   "source": [
    "Outpatient_counts = df['covid_res'].value_counts()\n",
    "total_positive_cases = Outpatient_counts.sum()\n",
    "\n",
    "plt.figure(figsize=(8, 6))\n",
    "plt.pie(Outpatient_counts, labels=Outpatient_counts.index, autopct='%1.1f%%', startangle=140)\n",
    "plt.title('Proportion of Cases by status')\n",
    "plt.axis('equal')  # Equal aspect ratio ensures that pie is drawn as a circle.\n",
    "plt.show()"
   ]
  },
  {
   "cell_type": "code",
   "execution_count": 389,
   "metadata": {},
   "outputs": [
    {
     "data": {
      "image/png": "[encoded data removed]",
      "text/plain": [
       "<Figure size 720x432 with 1 Axes>"
      ]
     },
     "metadata": {
      "needs_background": "light"
     },
     "output_type": "display_data"
    }
   ],
   "source": [
    "# Group by Covid status and death status, and count the number of cases\n",
    "death_counts = df.groupby(['covid_res', 'dead']).size().unstack(fill_value=0)\n",
    "\n",
    "# Sort by sum of deaths for each Covid status\n",
    "death_counts_sum = death_counts.sum(axis=1)\n",
    "death_counts_sorted = death_counts_sum.sort_values(ascending=False)\n",
    "death_counts_sorted_index = death_counts_sorted.index\n",
    "\n",
    "# Reorder the rows based on the sorted index\n",
    "death_counts_sorted = death_counts.reindex(death_counts_sorted_index)\n",
    "\n",
    "# Plotting\n",
    "ax = death_counts_sorted.plot(kind='bar', stacked=False, figsize=(10, 6), color=['green', 'red'])\n",
    "\n",
    "# Adding data labels\n",
    "for p in ax.patches:\n",
    "    ax.annotate(str(p.get_height()), (p.get_x() * 1.005, p.get_height() * 1.005))\n",
    "\n",
    "# Adding labels and title\n",
    "plt.xlabel('Covid Status')\n",
    "plt.ylabel('Number of Cases')\n",
    "plt.title('Death Rates by Covid status')\n",
    "plt.xticks(rotation=45)  # Rotate x-axis labels for better readability\n",
    "plt.legend(title='Dead', loc='upper right')\n",
    "\n",
    "# Show plot\n",
    "plt.tight_layout()\n",
    "plt.show()\n"
   ]
  },
  {
   "cell_type": "code",
   "execution_count": 390,
   "metadata": {},
   "outputs": [
    {
     "data": {
      "image/png": "[encoded data removed]",
      "text/plain": [
       "<Figure size 720x432 with 1 Axes>"
      ]
     },
     "metadata": {
      "needs_background": "light"
     },
     "output_type": "display_data"
    }
   ],
   "source": [
    "# Group by patient type and death status, and count the number of cases\n",
    "death_counts = df.groupby(['patient_type', 'dead']).size().unstack(fill_value=0)\n",
    "\n",
    "# Sort by sum of deaths for each patient type\n",
    "death_counts_sum = death_counts.sum(axis=1)\n",
    "death_counts_sorted = death_counts_sum.sort_values(ascending=False)\n",
    "death_counts_sorted_index = death_counts_sorted.index\n",
    "\n",
    "# Reorder the rows based on the sorted index\n",
    "death_counts_sorted = death_counts.reindex(death_counts_sorted_index)\n",
    "\n",
    "# Plotting\n",
    "ax = death_counts_sorted.plot(kind='bar', stacked=False, figsize=(10, 6), color=['green', 'red'])\n",
    "\n",
    "# Adding data labels\n",
    "for p in ax.patches:\n",
    "    ax.annotate(str(p.get_height()), (p.get_x() * 1.005, p.get_height() * 1.005))\n",
    "\n",
    "# Adding labels and title\n",
    "plt.xlabel('Patient Type')\n",
    "plt.ylabel('Number of Cases')\n",
    "plt.title('Death Rates by Patient Types')\n",
    "plt.xticks(rotation=45)  # Rotate x-axis labels for better readability\n",
    "plt.legend(title='Dead', loc='upper right')\n",
    "\n",
    "# Show plot\n",
    "plt.tight_layout()\n",
    "plt.show()"
   ]
  },
  {
   "cell_type": "code",
   "execution_count": 391,
   "metadata": {},
   "outputs": [],
   "source": [
    "# Convert dates to month-year format\n",
    "df['date_symptoms'] = df['date_symptoms'].dt.strftime('%Y-%m')\n",
    "df['date_died'] = df['date_died'].dt.strftime('%Y-%m')"
   ]
  },
  {
   "cell_type": "code",
   "execution_count": 392,
   "metadata": {},
   "outputs": [
    {
     "name": "stdout",
     "output_type": "stream",
     "text": [
      "           sex patient_type entry_date date_symptoms date_died intubed  \\\n",
      "id                                                                       \n",
      "0dd249    Male   Outpatient 2020-05-24       2020-05       NaN      No   \n",
      "0957d9  Female   Outpatient 2020-06-18       2020-06       NaN      No   \n",
      "0ad2eb  Female   Outpatient 2020-11-05       2020-11       NaN      No   \n",
      "1646ba  Female   Outpatient 2020-06-24       2020-06       NaN      No   \n",
      "1e31dd    Male   Outpatient 2020-05-17       2020-05       NaN      No   \n",
      "...        ...          ...        ...           ...       ...     ...   \n",
      "1b5791    Male   Outpatient 2020-06-16       2020-06       NaN      No   \n",
      "15b33c    Male    Inpatient 2020-05-05       2020-04       NaN      No   \n",
      "14fa3f    Male   Outpatient 2020-05-26       2020-05       NaN      No   \n",
      "09e1c3  Female   Outpatient 2020-08-05       2020-05       NaN      No   \n",
      "16d40b  Female   Outpatient 2020-04-16       2020-04       NaN      No   \n",
      "\n",
      "       pneumonia  age pregnancy diabetes  ... obesity renal_chronic tobacco  \\\n",
      "id                                        ...                                 \n",
      "0dd249       Yes   29        No       No  ...      No            No     Yes   \n",
      "0957d9        No   45        No       No  ...      No            No      No   \n",
      "0ad2eb        No   25        No       No  ...      No            No      No   \n",
      "1646ba        No   11        No       No  ...      No            No      No   \n",
      "1e31dd        No   28        No       No  ...      No            No      No   \n",
      "...          ...  ...       ...      ...  ...     ...           ...     ...   \n",
      "1b5791        No   43        No       No  ...      No            No      No   \n",
      "15b33c       Yes   31        No       No  ...      No            No      No   \n",
      "14fa3f        No   24        No       No  ...      No            No      No   \n",
      "09e1c3        No   42        No       No  ...      No            No      No   \n",
      "16d40b        No   24        No       No  ...      No            No      No   \n",
      "\n",
      "       contact_other_covid covid_res icu dead age_groups symptom_month  \\\n",
      "id                                                                       \n",
      "0dd249                 Yes  Negative  No   No      18-29             5   \n",
      "0957d9                 Yes  Negative  No   No      30-49             6   \n",
      "0ad2eb                 Yes  Negative  No   No      18-29            11   \n",
      "1646ba                 Yes  Positive  No   No       0-17             6   \n",
      "1e31dd                 Yes  Negative  No   No      18-29             5   \n",
      "...                    ...       ...  ..  ...        ...           ...   \n",
      "1b5791                  No  Negative  No   No      30-49             6   \n",
      "15b33c                  No  Positive  No   No      30-49             4   \n",
      "14fa3f                 Yes  Negative  No   No      18-29             5   \n",
      "09e1c3                 Yes  Negative  No   No      30-49             5   \n",
      "16d40b                  No  Negative  No   No      18-29             4   \n",
      "\n",
      "       month_name  \n",
      "id                 \n",
      "0dd249        May  \n",
      "0957d9       June  \n",
      "0ad2eb   November  \n",
      "1646ba       June  \n",
      "1e31dd        May  \n",
      "...           ...  \n",
      "1b5791       June  \n",
      "15b33c      April  \n",
      "14fa3f        May  \n",
      "09e1c3        May  \n",
      "16d40b      April  \n",
      "\n",
      "[9912 rows x 26 columns]\n"
     ]
    }
   ],
   "source": [
    "import calendar\n",
    "# Extract month names from 'date_symptoms' column\n",
    "def extract_month_name(date_str):\n",
    "    try:\n",
    "        year, month = date_str.split('-')\n",
    "        return calendar.month_name[int(month)]\n",
    "    except (ValueError, IndexError):\n",
    "        return 'Unknown'\n",
    "\n",
    "df['month_name'] = df['date_symptoms'].apply(extract_month_name)\n",
    "\n",
    "# Display the DataFrame\n",
    "print(df)\n"
   ]
  },
  {
   "cell_type": "markdown",
   "metadata": {},
   "source": [
    " **Analyzing positive cases**"
   ]
  },
  {
   "cell_type": "code",
   "execution_count": 393,
   "metadata": {},
   "outputs": [
    {
     "data": {
      "text/html": [
       "<div>\n",
       "<style scoped>\n",
       "    .dataframe tbody tr th:only-of-type {\n",
       "        vertical-align: middle;\n",
       "    }\n",
       "\n",
       "    .dataframe tbody tr th {\n",
       "        vertical-align: top;\n",
       "    }\n",
       "\n",
       "    .dataframe thead th {\n",
       "        text-align: right;\n",
       "    }\n",
       "</style>\n",
       "<table border=\"1\" class=\"dataframe\">\n",
       "  <thead>\n",
       "    <tr style=\"text-align: right;\">\n",
       "      <th></th>\n",
       "      <th>sex</th>\n",
       "      <th>patient_type</th>\n",
       "      <th>entry_date</th>\n",
       "      <th>date_symptoms</th>\n",
       "      <th>date_died</th>\n",
       "      <th>intubed</th>\n",
       "      <th>pneumonia</th>\n",
       "      <th>age</th>\n",
       "      <th>pregnancy</th>\n",
       "      <th>diabetes</th>\n",
       "      <th>...</th>\n",
       "      <th>obesity</th>\n",
       "      <th>renal_chronic</th>\n",
       "      <th>tobacco</th>\n",
       "      <th>contact_other_covid</th>\n",
       "      <th>covid_res</th>\n",
       "      <th>icu</th>\n",
       "      <th>dead</th>\n",
       "      <th>age_groups</th>\n",
       "      <th>symptom_month</th>\n",
       "      <th>month_name</th>\n",
       "    </tr>\n",
       "    <tr>\n",
       "      <th>id</th>\n",
       "      <th></th>\n",
       "      <th></th>\n",
       "      <th></th>\n",
       "      <th></th>\n",
       "      <th></th>\n",
       "      <th></th>\n",
       "      <th></th>\n",
       "      <th></th>\n",
       "      <th></th>\n",
       "      <th></th>\n",
       "      <th></th>\n",
       "      <th></th>\n",
       "      <th></th>\n",
       "      <th></th>\n",
       "      <th></th>\n",
       "      <th></th>\n",
       "      <th></th>\n",
       "      <th></th>\n",
       "      <th></th>\n",
       "      <th></th>\n",
       "      <th></th>\n",
       "    </tr>\n",
       "  </thead>\n",
       "  <tbody>\n",
       "    <tr>\n",
       "      <th>1646ba</th>\n",
       "      <td>Female</td>\n",
       "      <td>Outpatient</td>\n",
       "      <td>2020-06-24</td>\n",
       "      <td>2020-06</td>\n",
       "      <td>NaN</td>\n",
       "      <td>No</td>\n",
       "      <td>No</td>\n",
       "      <td>11</td>\n",
       "      <td>No</td>\n",
       "      <td>No</td>\n",
       "      <td>...</td>\n",
       "      <td>No</td>\n",
       "      <td>No</td>\n",
       "      <td>No</td>\n",
       "      <td>Yes</td>\n",
       "      <td>Positive</td>\n",
       "      <td>No</td>\n",
       "      <td>No</td>\n",
       "      <td>0-17</td>\n",
       "      <td>6</td>\n",
       "      <td>June</td>\n",
       "    </tr>\n",
       "    <tr>\n",
       "      <th>107c1f</th>\n",
       "      <td>Female</td>\n",
       "      <td>Outpatient</td>\n",
       "      <td>2020-08-06</td>\n",
       "      <td>2020-06</td>\n",
       "      <td>NaN</td>\n",
       "      <td>No</td>\n",
       "      <td>No</td>\n",
       "      <td>28</td>\n",
       "      <td>No</td>\n",
       "      <td>No</td>\n",
       "      <td>...</td>\n",
       "      <td>No</td>\n",
       "      <td>No</td>\n",
       "      <td>No</td>\n",
       "      <td>No</td>\n",
       "      <td>Positive</td>\n",
       "      <td>No</td>\n",
       "      <td>No</td>\n",
       "      <td>18-29</td>\n",
       "      <td>6</td>\n",
       "      <td>June</td>\n",
       "    </tr>\n",
       "    <tr>\n",
       "      <th>13627c</th>\n",
       "      <td>Male</td>\n",
       "      <td>Inpatient</td>\n",
       "      <td>2020-05-17</td>\n",
       "      <td>2020-05</td>\n",
       "      <td>2020-06</td>\n",
       "      <td>No</td>\n",
       "      <td>No</td>\n",
       "      <td>47</td>\n",
       "      <td>No</td>\n",
       "      <td>Yes</td>\n",
       "      <td>...</td>\n",
       "      <td>No</td>\n",
       "      <td>No</td>\n",
       "      <td>No</td>\n",
       "      <td>Yes</td>\n",
       "      <td>Positive</td>\n",
       "      <td>No</td>\n",
       "      <td>Yes</td>\n",
       "      <td>30-49</td>\n",
       "      <td>5</td>\n",
       "      <td>May</td>\n",
       "    </tr>\n",
       "    <tr>\n",
       "      <th>010d87</th>\n",
       "      <td>Female</td>\n",
       "      <td>Outpatient</td>\n",
       "      <td>2020-04-05</td>\n",
       "      <td>2020-04</td>\n",
       "      <td>NaN</td>\n",
       "      <td>No</td>\n",
       "      <td>No</td>\n",
       "      <td>46</td>\n",
       "      <td>No</td>\n",
       "      <td>No</td>\n",
       "      <td>...</td>\n",
       "      <td>Yes</td>\n",
       "      <td>No</td>\n",
       "      <td>No</td>\n",
       "      <td>Yes</td>\n",
       "      <td>Positive</td>\n",
       "      <td>No</td>\n",
       "      <td>No</td>\n",
       "      <td>30-49</td>\n",
       "      <td>4</td>\n",
       "      <td>April</td>\n",
       "    </tr>\n",
       "    <tr>\n",
       "      <th>19511b</th>\n",
       "      <td>Male</td>\n",
       "      <td>Outpatient</td>\n",
       "      <td>2020-03-30</td>\n",
       "      <td>2020-03</td>\n",
       "      <td>NaN</td>\n",
       "      <td>No</td>\n",
       "      <td>No</td>\n",
       "      <td>28</td>\n",
       "      <td>No</td>\n",
       "      <td>No</td>\n",
       "      <td>...</td>\n",
       "      <td>No</td>\n",
       "      <td>No</td>\n",
       "      <td>No</td>\n",
       "      <td>Yes</td>\n",
       "      <td>Positive</td>\n",
       "      <td>No</td>\n",
       "      <td>No</td>\n",
       "      <td>18-29</td>\n",
       "      <td>3</td>\n",
       "      <td>March</td>\n",
       "    </tr>\n",
       "    <tr>\n",
       "      <th>...</th>\n",
       "      <td>...</td>\n",
       "      <td>...</td>\n",
       "      <td>...</td>\n",
       "      <td>...</td>\n",
       "      <td>...</td>\n",
       "      <td>...</td>\n",
       "      <td>...</td>\n",
       "      <td>...</td>\n",
       "      <td>...</td>\n",
       "      <td>...</td>\n",
       "      <td>...</td>\n",
       "      <td>...</td>\n",
       "      <td>...</td>\n",
       "      <td>...</td>\n",
       "      <td>...</td>\n",
       "      <td>...</td>\n",
       "      <td>...</td>\n",
       "      <td>...</td>\n",
       "      <td>...</td>\n",
       "      <td>...</td>\n",
       "      <td>...</td>\n",
       "    </tr>\n",
       "    <tr>\n",
       "      <th>0b5f03</th>\n",
       "      <td>Female</td>\n",
       "      <td>Outpatient</td>\n",
       "      <td>2020-04-29</td>\n",
       "      <td>2020-04</td>\n",
       "      <td>NaN</td>\n",
       "      <td>No</td>\n",
       "      <td>No</td>\n",
       "      <td>42</td>\n",
       "      <td>No</td>\n",
       "      <td>No</td>\n",
       "      <td>...</td>\n",
       "      <td>No</td>\n",
       "      <td>No</td>\n",
       "      <td>No</td>\n",
       "      <td>Yes</td>\n",
       "      <td>Positive</td>\n",
       "      <td>No</td>\n",
       "      <td>No</td>\n",
       "      <td>30-49</td>\n",
       "      <td>4</td>\n",
       "      <td>April</td>\n",
       "    </tr>\n",
       "    <tr>\n",
       "      <th>1886ee</th>\n",
       "      <td>Male</td>\n",
       "      <td>Outpatient</td>\n",
       "      <td>2020-05-25</td>\n",
       "      <td>2020-05</td>\n",
       "      <td>NaN</td>\n",
       "      <td>No</td>\n",
       "      <td>No</td>\n",
       "      <td>57</td>\n",
       "      <td>No</td>\n",
       "      <td>Yes</td>\n",
       "      <td>...</td>\n",
       "      <td>Yes</td>\n",
       "      <td>No</td>\n",
       "      <td>No</td>\n",
       "      <td>No</td>\n",
       "      <td>Positive</td>\n",
       "      <td>No</td>\n",
       "      <td>No</td>\n",
       "      <td>50-69</td>\n",
       "      <td>5</td>\n",
       "      <td>May</td>\n",
       "    </tr>\n",
       "    <tr>\n",
       "      <th>179ad8</th>\n",
       "      <td>Female</td>\n",
       "      <td>Outpatient</td>\n",
       "      <td>2020-06-13</td>\n",
       "      <td>2020-02</td>\n",
       "      <td>NaN</td>\n",
       "      <td>No</td>\n",
       "      <td>No</td>\n",
       "      <td>30</td>\n",
       "      <td>No</td>\n",
       "      <td>No</td>\n",
       "      <td>...</td>\n",
       "      <td>No</td>\n",
       "      <td>No</td>\n",
       "      <td>No</td>\n",
       "      <td>Yes</td>\n",
       "      <td>Positive</td>\n",
       "      <td>No</td>\n",
       "      <td>No</td>\n",
       "      <td>30-49</td>\n",
       "      <td>2</td>\n",
       "      <td>February</td>\n",
       "    </tr>\n",
       "    <tr>\n",
       "      <th>102204</th>\n",
       "      <td>Male</td>\n",
       "      <td>Inpatient</td>\n",
       "      <td>2020-09-04</td>\n",
       "      <td>2020-02</td>\n",
       "      <td>NaN</td>\n",
       "      <td>No</td>\n",
       "      <td>Yes</td>\n",
       "      <td>56</td>\n",
       "      <td>No</td>\n",
       "      <td>Yes</td>\n",
       "      <td>...</td>\n",
       "      <td>Yes</td>\n",
       "      <td>No</td>\n",
       "      <td>No</td>\n",
       "      <td>No</td>\n",
       "      <td>Positive</td>\n",
       "      <td>Yes</td>\n",
       "      <td>No</td>\n",
       "      <td>50-69</td>\n",
       "      <td>2</td>\n",
       "      <td>February</td>\n",
       "    </tr>\n",
       "    <tr>\n",
       "      <th>15b33c</th>\n",
       "      <td>Male</td>\n",
       "      <td>Inpatient</td>\n",
       "      <td>2020-05-05</td>\n",
       "      <td>2020-04</td>\n",
       "      <td>NaN</td>\n",
       "      <td>No</td>\n",
       "      <td>Yes</td>\n",
       "      <td>31</td>\n",
       "      <td>No</td>\n",
       "      <td>No</td>\n",
       "      <td>...</td>\n",
       "      <td>No</td>\n",
       "      <td>No</td>\n",
       "      <td>No</td>\n",
       "      <td>No</td>\n",
       "      <td>Positive</td>\n",
       "      <td>No</td>\n",
       "      <td>No</td>\n",
       "      <td>30-49</td>\n",
       "      <td>4</td>\n",
       "      <td>April</td>\n",
       "    </tr>\n",
       "  </tbody>\n",
       "</table>\n",
       "<p>3847 rows × 26 columns</p>\n",
       "</div>"
      ],
      "text/plain": [
       "           sex patient_type entry_date date_symptoms date_died intubed  \\\n",
       "id                                                                       \n",
       "1646ba  Female   Outpatient 2020-06-24       2020-06       NaN      No   \n",
       "107c1f  Female   Outpatient 2020-08-06       2020-06       NaN      No   \n",
       "13627c    Male    Inpatient 2020-05-17       2020-05   2020-06      No   \n",
       "010d87  Female   Outpatient 2020-04-05       2020-04       NaN      No   \n",
       "19511b    Male   Outpatient 2020-03-30       2020-03       NaN      No   \n",
       "...        ...          ...        ...           ...       ...     ...   \n",
       "0b5f03  Female   Outpatient 2020-04-29       2020-04       NaN      No   \n",
       "1886ee    Male   Outpatient 2020-05-25       2020-05       NaN      No   \n",
       "179ad8  Female   Outpatient 2020-06-13       2020-02       NaN      No   \n",
       "102204    Male    Inpatient 2020-09-04       2020-02       NaN      No   \n",
       "15b33c    Male    Inpatient 2020-05-05       2020-04       NaN      No   \n",
       "\n",
       "       pneumonia  age pregnancy diabetes  ... obesity renal_chronic tobacco  \\\n",
       "id                                        ...                                 \n",
       "1646ba        No   11        No       No  ...      No            No      No   \n",
       "107c1f        No   28        No       No  ...      No            No      No   \n",
       "13627c        No   47        No      Yes  ...      No            No      No   \n",
       "010d87        No   46        No       No  ...     Yes            No      No   \n",
       "19511b        No   28        No       No  ...      No            No      No   \n",
       "...          ...  ...       ...      ...  ...     ...           ...     ...   \n",
       "0b5f03        No   42        No       No  ...      No            No      No   \n",
       "1886ee        No   57        No      Yes  ...     Yes            No      No   \n",
       "179ad8        No   30        No       No  ...      No            No      No   \n",
       "102204       Yes   56        No      Yes  ...     Yes            No      No   \n",
       "15b33c       Yes   31        No       No  ...      No            No      No   \n",
       "\n",
       "       contact_other_covid covid_res  icu dead age_groups symptom_month  \\\n",
       "id                                                                        \n",
       "1646ba                 Yes  Positive   No   No       0-17             6   \n",
       "107c1f                  No  Positive   No   No      18-29             6   \n",
       "13627c                 Yes  Positive   No  Yes      30-49             5   \n",
       "010d87                 Yes  Positive   No   No      30-49             4   \n",
       "19511b                 Yes  Positive   No   No      18-29             3   \n",
       "...                    ...       ...  ...  ...        ...           ...   \n",
       "0b5f03                 Yes  Positive   No   No      30-49             4   \n",
       "1886ee                  No  Positive   No   No      50-69             5   \n",
       "179ad8                 Yes  Positive   No   No      30-49             2   \n",
       "102204                  No  Positive  Yes   No      50-69             2   \n",
       "15b33c                  No  Positive   No   No      30-49             4   \n",
       "\n",
       "       month_name  \n",
       "id                 \n",
       "1646ba       June  \n",
       "107c1f       June  \n",
       "13627c        May  \n",
       "010d87      April  \n",
       "19511b      March  \n",
       "...           ...  \n",
       "0b5f03      April  \n",
       "1886ee        May  \n",
       "179ad8   February  \n",
       "102204   February  \n",
       "15b33c      April  \n",
       "\n",
       "[3847 rows x 26 columns]"
      ]
     },
     "execution_count": 393,
     "metadata": {},
     "output_type": "execute_result"
    }
   ],
   "source": [
    "# Filtering data to only those who are positive_COVID\n",
    "\n",
    "positive_cases = df[df['covid_res']=='Positive']\n",
    "positive_cases"
   ]
  },
  {
   "cell_type": "code",
   "execution_count": 394,
   "metadata": {},
   "outputs": [
    {
     "data": {
      "image/png": "[encoded data removed]",
      "text/plain": [
       "<Figure size 576x432 with 1 Axes>"
      ]
     },
     "metadata": {},
     "output_type": "display_data"
    }
   ],
   "source": [
    "gender_counts = positive_cases['sex'].value_counts()\n",
    "total_positive_cases = gender_counts.sum()\n",
    "\n",
    "plt.figure(figsize=(8, 6))\n",
    "plt.pie(gender_counts, labels=gender_counts.index, autopct='%1.1f%%', startangle=140, colors=['red', 'green'])\n",
    "plt.title('Proportion of Confirmed Positive Cases by Gender')\n",
    "plt.axis('equal')  # Equal aspect ratio ensures that pie is drawn as a circle.\n",
    "plt.show()"
   ]
  },
  {
   "cell_type": "code",
   "execution_count": 395,
   "metadata": {},
   "outputs": [
    {
     "data": {
      "image/png": "[encoded data removed]",
      "text/plain": [
       "<Figure size 576x432 with 1 Axes>"
      ]
     },
     "metadata": {},
     "output_type": "display_data"
    }
   ],
   "source": [
    "Outpatient_counts = positive_cases['patient_type'].value_counts()\n",
    "total_positive_cases = Outpatient_counts.sum()\n",
    "\n",
    "plt.figure(figsize=(8, 6))\n",
    "plt.pie(Outpatient_counts, labels=Outpatient_counts.index, autopct='%1.1f%%', startangle=140, colors=['red', 'green'])\n",
    "plt.title('Proportion of Confirmed Positive Cases by Patient Type')\n",
    "plt.axis('equal')  # Equal aspect ratio ensures that pie is drawn as a circle.\n",
    "plt.show()"
   ]
  },
  {
   "cell_type": "code",
   "execution_count": 396,
   "metadata": {},
   "outputs": [
    {
     "data": {
      "text/plain": [
       "Index(['sex', 'patient_type', 'entry_date', 'date_symptoms', 'date_died',\n",
       "       'intubed', 'pneumonia', 'age', 'pregnancy', 'diabetes', 'copd',\n",
       "       'asthma', 'inmsupr', 'hypertension', 'other_disease', 'cardiovascular',\n",
       "       'obesity', 'renal_chronic', 'tobacco', 'contact_other_covid',\n",
       "       'covid_res', 'icu', 'dead', 'age_groups', 'symptom_month',\n",
       "       'month_name'],\n",
       "      dtype='object')"
      ]
     },
     "execution_count": 396,
     "metadata": {},
     "output_type": "execute_result"
    }
   ],
   "source": [
    "positive_cases.columns"
   ]
  },
  {
   "cell_type": "code",
   "execution_count": 397,
   "metadata": {},
   "outputs": [],
   "source": [
    "# Convert 'date_symptoms' column to datetime format\n",
    "df['date_symptoms'] = pd.to_datetime(df['date_symptoms'], errors='coerce')\n",
    "\n",
    "# Convert dates to month-year format\n",
    "df['date_symptoms'] = df['date_symptoms'].dt.strftime('%Y-%m')\n",
    "\n",
    "# Check the first few rows to ensure the conversion worked\n",
    "# print(df.head())"
   ]
  },
  {
   "cell_type": "code",
   "execution_count": 398,
   "metadata": {},
   "outputs": [],
   "source": [
    "positive_cases['date_symptoms'] = pd.to_datetime(positive_cases['date_symptoms'], errors='coerce')\n",
    "\n",
    "# Convert dates to month-year format\n",
    "positive_cases['date_symptoms'] = positive_cases['date_symptoms'].dt.strftime('%Y-%m')"
   ]
  },
  {
   "cell_type": "markdown",
   "metadata": {},
   "source": [
    "**Trend analysis on deaths and symptom dates**"
   ]
  },
  {
   "cell_type": "code",
   "execution_count": 399,
   "metadata": {},
   "outputs": [
    {
     "data": {
      "image/png": "[encoded data removed]",
      "text/plain": [
       "<Figure size 864x432 with 1 Axes>"
      ]
     },
     "metadata": {
      "needs_background": "light"
     },
     "output_type": "display_data"
    }
   ],
   "source": [
    "# Extract month names from 'date_symptoms' column\n",
    "def extract_month_name(date_str):\n",
    "    try:\n",
    "        year, month = date_str.split('-')\n",
    "        return calendar.month_name[int(month)]\n",
    "    except (ValueError, IndexError):\n",
    "        return 'Unknown'\n",
    "\n",
    "positive_cases['month_name'] = positive_cases['date_symptoms'].apply(extract_month_name)\n",
    "\n",
    "# Group by month_name and count positive cases for each month\n",
    "trend = positive_cases.groupby('month_name').size()\n",
    "\n",
    "# Total number of positive cases\n",
    "total_positives = trend.sum()\n",
    "\n",
    "# Define the order of months\n",
    "month_order = ['January', 'February', 'March', 'April', 'May', 'June', 'July', 'August', 'September', 'October', 'November', 'December']\n",
    "\n",
    "# Reorder the data\n",
    "trend = trend.reindex(month_order)\n",
    "\n",
    "# Plot the trend\n",
    "plt.figure(figsize=(12, 6))\n",
    "plt.plot(trend.index, trend.values, marker='o', color='green', linestyle='--', label=f'Total Positives: {total_positives}')\n",
    "plt.title('Positive Cases Trend by Month')\n",
    "plt.xlabel('Date_Symptoms')\n",
    "plt.ylabel('Number of Positive Cases')\n",
    "plt.xticks(rotation=45, ha='right')\n",
    "\n",
    "# Label the data points\n",
    "for i, txt in enumerate(trend.values):\n",
    "    plt.annotate(txt, (trend.index[i], trend.values[i]), textcoords=\"offset points\", xytext=(0,10), ha='center')\n",
    "\n",
    "plt.legend()\n",
    "plt.tight_layout()\n",
    "plt.show()"
   ]
  },
  {
   "cell_type": "code",
   "execution_count": 400,
   "metadata": {},
   "outputs": [
    {
     "data": {
      "image/png": "[encoded data removed]",
      "text/plain": [
       "<Figure size 864x432 with 1 Axes>"
      ]
     },
     "metadata": {
      "needs_background": "light"
     },
     "output_type": "display_data"
    }
   ],
   "source": [
    "# Extract month names from 'date_died' column\n",
    "def extract_month_name(date_str):\n",
    "    try:\n",
    "        if isinstance(date_str, str):  # Check if the value is a string\n",
    "            year, month = date_str.split('-')\n",
    "            return calendar.month_name[int(month)]\n",
    "        else:\n",
    "            return 'Unknown'\n",
    "    except (ValueError, IndexError):\n",
    "        return 'Unknown'\n",
    "\n",
    "positive_cases['month_name'] = positive_cases['date_died'].apply(extract_month_name)\n",
    "\n",
    "# Group by month_name and count cases for each month\n",
    "trend = positive_cases.groupby('month_name').size()\n",
    "\n",
    "# Total number of cases\n",
    "total_cases = trend.sum()\n",
    "\n",
    "# Define the order of months\n",
    "month_order = ['January', 'February', 'March', 'April', 'May', 'June', 'July', 'August', 'September', 'October', 'November', 'December']\n",
    "\n",
    "# Reorder the data\n",
    "trend = trend.reindex(month_order)\n",
    "\n",
    "# Plot the trend\n",
    "plt.figure(figsize=(12, 6))\n",
    "plt.plot(trend.index, trend.values, marker='o', color='green', linestyle='--')\n",
    "plt.title('Cases Trend by Month of Death')\n",
    "plt.xlabel('Month of Death')\n",
    "plt.ylabel('Number of Death Cases among positive clients')\n",
    "plt.xticks(rotation=45, ha='right')\n",
    "\n",
    "# Label the data points\n",
    "for i, txt in enumerate(trend.values):\n",
    "    plt.annotate(txt, (trend.index[i], trend.values[i]), textcoords=\"offset points\", xytext=(0,10), ha='center')\n",
    "\n",
    "# plt.legend()\n",
    "plt.tight_layout()\n",
    "plt.show()"
   ]
  },
  {
   "cell_type": "markdown",
   "metadata": {},
   "source": [
    "**Multivariate Analysis**"
   ]
  },
  {
   "cell_type": "code",
   "execution_count": 401,
   "metadata": {},
   "outputs": [
    {
     "data": {
      "image/png": "[encoded data removed]",
      "text/plain": [
       "<Figure size 1296x1728 with 3 Axes>"
      ]
     },
     "metadata": {
      "needs_background": "light"
     },
     "output_type": "display_data"
    }
   ],
   "source": [
    "import seaborn as sns\n",
    "import matplotlib.pyplot as plt\n",
    "\n",
    "# Define binary categorical variables\n",
    "binary_categorical_vars = ['sex', 'patient_type', 'dead']\n",
    "\n",
    "# Set up the figure and axes\n",
    "fig, axes = plt.subplots(nrows=6, ncols=3, figsize=(18, 24))\n",
    "\n",
    "# Flatten the axes array for easy iteration\n",
    "axes = axes.flatten()\n",
    "\n",
    "# Loop over each binary categorical variable\n",
    "for i, var in enumerate(binary_categorical_vars):\n",
    "    # Calculate counts of each category in the variable\n",
    "    counts = positive_cases[var].value_counts()\n",
    "\n",
    "    # Sort counts in descending order\n",
    "    counts = counts.sort_values(ascending=False)\n",
    "\n",
    "    # Plot the count of each category in the variable\n",
    "    ax = sns.countplot(x=var, data=positive_cases, ax=axes[i], order=counts.index, palette='muted')\n",
    "    axes[i].set_title(f'{var} Distribution for Positive Cases')\n",
    "    axes[i].set_xlabel('')\n",
    "    axes[i].set_ylabel('Count')\n",
    "\n",
    "    # Add data labels to the bars\n",
    "    for p in ax.patches:\n",
    "        ax.annotate(f'{p.get_height()}', (p.get_x() + p.get_width() / 2., p.get_height()),\n",
    "                    ha='center', va='bottom', fontsize=8)\n",
    "\n",
    "# Remove any unused axes\n",
    "for j in range(len(binary_categorical_vars), len(axes)):\n",
    "    fig.delaxes(axes[j])\n",
    "\n",
    "# Adjust layout\n",
    "plt.tight_layout()\n",
    "plt.show()\n"
   ]
  },
  {
   "cell_type": "code",
   "execution_count": 402,
   "metadata": {},
   "outputs": [
    {
     "data": {
      "image/png": "[encoded data removed]",
      "text/plain": [
       "<Figure size 1296x720 with 1 Axes>"
      ]
     },
     "metadata": {
      "needs_background": "light"
     },
     "output_type": "display_data"
    }
   ],
   "source": [
    "import seaborn as sns\n",
    "import pandas as pd\n",
    "import matplotlib.pyplot as plt\n",
    "\n",
    "# Assuming df is your DataFrame containing the variables and 'positive_cases' is a subset for positive cases\n",
    "\n",
    "# Define binary categorical variables\n",
    "binary_categorical_vars = ['intubed', 'pneumonia', 'pregnancy', 'diabetes', 'copd', 'asthma',\n",
    "                           'inmsupr', 'hypertension', 'other_disease', 'cardiovascular', 'obesity', 'renal_chronic',\n",
    "                           'tobacco', 'contact_other_covid', 'icu']\n",
    "\n",
    "# Create a new DataFrame to combine all binary categorical variables\n",
    "binary_categorical_df = pd.DataFrame()\n",
    "for var in binary_categorical_vars:\n",
    "    binary_categorical_df[var] = positive_cases[var].map({'Yes': 1, 'No': 0})\n",
    "\n",
    "# Melt the DataFrame to long format\n",
    "binary_categorical_df = binary_categorical_df.melt(var_name='Variable', value_name='Value')\n",
    "\n",
    "# Calculate counts of each category in the variables\n",
    "counts = binary_categorical_df.groupby(['Variable', 'Value']).size()\n",
    "\n",
    "# Sort counts in descending order\n",
    "sorted_values = counts.unstack().sum().sort_values(ascending=False).index\n",
    "\n",
    "# Set up the figure and axes\n",
    "plt.figure(figsize=(18, 10))\n",
    "\n",
    "# Plot count of each category in all variables\n",
    "ax = sns.countplot(data=binary_categorical_df, x='Variable', hue='Value', hue_order=sorted_values, palette='viridis', dodge=False)\n",
    "plt.title('Distribution of Binary Categorical Variables for Positive Cases')\n",
    "plt.xlabel('Variables')\n",
    "plt.ylabel('Number of Positive Cases')\n",
    "plt.xticks(rotation=45, ha='right')\n",
    "\n",
    "# Show legend\n",
    "plt.legend(title='Value', labels=['Yes', 'No'])\n",
    "\n",
    "# Add data labels\n",
    "for p in ax.patches:\n",
    "    ax.annotate(f'{p.get_height()}', (p.get_x() + p.get_width() / 2., p.get_height()), ha='center', va='center', xytext=(0, 10), textcoords='offset points')\n",
    "\n",
    "# Show plot\n",
    "plt.tight_layout()\n",
    "plt.show()\n"
   ]
  },
  {
   "cell_type": "code",
   "execution_count": 403,
   "metadata": {},
   "outputs": [
    {
     "data": {
      "text/plain": [
       "Index(['sex', 'patient_type', 'entry_date', 'date_symptoms', 'date_died',\n",
       "       'intubed', 'pneumonia', 'age', 'pregnancy', 'diabetes', 'copd',\n",
       "       'asthma', 'inmsupr', 'hypertension', 'other_disease', 'cardiovascular',\n",
       "       'obesity', 'renal_chronic', 'tobacco', 'contact_other_covid',\n",
       "       'covid_res', 'icu', 'dead', 'age_groups', 'symptom_month',\n",
       "       'month_name'],\n",
       "      dtype='object')"
      ]
     },
     "execution_count": 403,
     "metadata": {},
     "output_type": "execute_result"
    }
   ],
   "source": [
    "positive_cases.columns"
   ]
  },
  {
   "cell_type": "markdown",
   "metadata": {},
   "source": [
    "**Step 3: Data Modelling**"
   ]
  },
  {
   "cell_type": "markdown",
   "metadata": {},
   "source": [
    "Using:\n",
    "* Logistic Regression\n",
    "* Random Forest \n",
    "* XGBoost Models"
   ]
  },
  {
   "cell_type": "code",
   "execution_count": 404,
   "metadata": {},
   "outputs": [],
   "source": [
    "# Filter out rows with 'covid_res' indicating awaiting results\n",
    "df = df[df['covid_res'].isin(['Positive', 'Negative'])]\n"
   ]
  },
  {
   "cell_type": "code",
   "execution_count": 405,
   "metadata": {},
   "outputs": [],
   "source": [
    "import pandas as pd\n",
    "import numpy as np\n",
    "from imblearn.over_sampling import SMOTE\n",
    "from sklearn.model_selection import train_test_split, GridSearchCV\n",
    "from sklearn.preprocessing import LabelEncoder, StandardScaler, OneHotEncoder\n",
    "from sklearn.linear_model import LogisticRegression\n",
    "from sklearn.pipeline import Pipeline\n",
    "from sklearn.compose import ColumnTransformer\n",
    "from sklearn.metrics import accuracy_score, roc_curve, auc, classification_report, precision_recall_curve, confusion_matrix\n",
    "from sklearn.ensemble import RandomForestClassifier\n",
    "import xgboost as xgb\n",
    "import matplotlib.pyplot as plt\n",
    "import seaborn as sns\n",
    "\n",
    "\n",
    "\n",
    "# Defining features\n",
    "numeric_features = ['age']   # Replace with your numeric features\n",
    "categorical_features = ['sex', 'patient_type','month_name',\n",
    "       'intubed', 'pneumonia', 'pregnancy', 'diabetes', 'copd',\n",
    "       'asthma', 'inmsupr', 'hypertension', 'other_disease', 'cardiovascular',\n",
    "       'obesity', 'renal_chronic', 'tobacco', 'contact_other_covid',\n",
    "       'icu','dead','age_groups']  # Replace with your categorical features\n",
    "target = 'covid_res'  # Replace with your target variable\n",
    "\n",
    "# Separate features and target variable\n",
    "X = df[numeric_features + categorical_features]\n",
    "y = df[target]\n",
    "\n",
    "# Encode target variable\n",
    "label_encoder_y = LabelEncoder()\n",
    "y = label_encoder_y.fit_transform(y)\n",
    "\n",
    "# Split data into train and test sets\n",
    "X_train, X_test, y_train, y_test = train_test_split(X, y, test_size=0.2, random_state=42)\n",
    "\n",
    "# Define label encoding for categorical features\n",
    "label_encoders = {}\n",
    "for feature in categorical_features:\n",
    "    le = LabelEncoder()\n",
    "    X_train[feature] = le.fit_transform(X_train[feature])\n",
    "    X_test[feature] = le.transform(X_test[feature])  # Apply the same transformation to the test set\n",
    "    label_encoders[feature] = le\n",
    "\n",
    "# Define preprocessing steps for numerical features\n",
    "numeric_transformer = Pipeline(steps=[\n",
    "    ('scaler', StandardScaler())  # Standardize numerical features\n",
    "])\n",
    "\n",
    "# Combine preprocessing steps\n",
    "preprocessor = ColumnTransformer(\n",
    "    transformers=[\n",
    "        ('num', numeric_transformer, numeric_features),\n",
    "        ('cat', OneHotEncoder(handle_unknown='ignore'), categorical_features)\n",
    "    ])\n",
    "\n",
    "# Define hyperparameters for grid search\n",
    "param_grid = {\n",
    "    'classifier__C': [0.001, 0.01, 0.1, 1, 10, 100], \n",
    "    # Regularization parameter\n",
    "}\n",
    "\n",
    "# Apply SMOTE to handle class imbalance\n",
    "smote = SMOTE(random_state=42)\n",
    "X_train_resampled, y_train_resampled = smote.fit_resample(X_train, y_train)\n",
    "\n",
    "# Function to plot confusion matrix\n",
    "def plot_confusion_matrix(cm, title):\n",
    "    plt.figure(figsize=(6,6))\n",
    "    sns.heatmap(cm, annot=True, fmt=\"d\", cmap=\"Blues\", cbar=False)\n",
    "    plt.xlabel('Predicted')\n",
    "    plt.ylabel('True')\n",
    "    plt.title(title)\n",
    "    plt.show()\n",
    "\n",
    "# Train and evaluate Logistic Regression\n",
    "logistic_pipeline = Pipeline(steps=[('preprocessor', preprocessor),\n",
    "                                    ('classifier', LogisticRegression(max_iter=1000))])\n",
    "\n",
    "grid_search_logistic = GridSearchCV(logistic_pipeline, param_grid, cv=5, scoring='f1')\n",
    "grid_search_logistic.fit(X_train_resampled, y_train_resampled)\n",
    "best_logistic_model = grid_search_logistic.best_estimator_\n",
    "\n",
    "logistic_y_pred = best_logistic_model.predict(X_test)\n",
    "logistic_y_pred_proba = best_logistic_model.predict_proba(X_test)[:, 1]\n",
    "\n",
    "\n",
    "\n",
    "# Train and evaluate Random Forest\n",
    "rf_pipeline = Pipeline(steps=[('preprocessor', preprocessor),\n",
    "                              ('classifier', RandomForestClassifier(n_estimators=100, random_state=42))])\n",
    "\n",
    "rf_pipeline.fit(X_train_resampled, y_train_resampled)\n",
    "rf_y_pred = rf_pipeline.predict(X_test)\n",
    "rf_y_pred_proba = rf_pipeline.predict_proba(X_test)[:, 1]\n",
    "\n",
    "\n",
    "\n",
    "# Train and evaluate XGBoost\n",
    "xgb_pipeline = Pipeline(steps=[('preprocessor', preprocessor),\n",
    "                               ('classifier', xgb.XGBClassifier(n_estimators=100, learning_rate=0.1, max_depth=3, random_state=42))])\n",
    "\n",
    "xgb_pipeline.fit(X_train_resampled, y_train_resampled)\n",
    "xgb_y_pred = xgb_pipeline.predict(X_test)\n",
    "xgb_y_pred_proba = xgb_pipeline.predict_proba(X_test)[:, 1]\n",
    "\n"
   ]
  },
  {
   "cell_type": "markdown",
   "metadata": {},
   "source": [
    "**Model Evaluation**"
   ]
  },
  {
   "cell_type": "markdown",
   "metadata": {},
   "source": [
    "**Visualizing Classification Reports and confusion matrix for the models**"
   ]
  },
  {
   "cell_type": "code",
   "execution_count": 406,
   "metadata": {},
   "outputs": [
    {
     "name": "stdout",
     "output_type": "stream",
     "text": [
      "\n",
      "Logistic Regression Classification Report:\n",
      "              precision    recall  f1-score   support\n",
      "\n",
      "           0       0.65      0.67      0.66       970\n",
      "           1       0.58      0.56      0.57       790\n",
      "\n",
      "    accuracy                           0.62      1760\n",
      "   macro avg       0.62      0.61      0.61      1760\n",
      "weighted avg       0.62      0.62      0.62      1760\n",
      "\n"
     ]
    },
    {
     "data": {
      "image/png": "[encoded data removed]",
      "text/plain": [
       "<Figure size 432x432 with 1 Axes>"
      ]
     },
     "metadata": {
      "needs_background": "light"
     },
     "output_type": "display_data"
    }
   ],
   "source": [
    "print(\"\\nLogistic Regression Classification Report:\")\n",
    "print(classification_report(y_test, logistic_y_pred))\n",
    "logistic_cm = confusion_matrix(y_test, logistic_y_pred)\n",
    "plot_confusion_matrix(logistic_cm, \"Logistic Regression Confusion Matrix\")"
   ]
  },
  {
   "cell_type": "code",
   "execution_count": 407,
   "metadata": {},
   "outputs": [
    {
     "name": "stdout",
     "output_type": "stream",
     "text": [
      "\n",
      "Random Forest Classification Report:\n",
      "              precision    recall  f1-score   support\n",
      "\n",
      "           0       0.63      0.64      0.63       970\n",
      "           1       0.55      0.54      0.54       790\n",
      "\n",
      "    accuracy                           0.59      1760\n",
      "   macro avg       0.59      0.59      0.59      1760\n",
      "weighted avg       0.59      0.59      0.59      1760\n",
      "\n"
     ]
    },
    {
     "data": {
      "image/png": "[encoded data removed]",
      "text/plain": [
       "<Figure size 432x432 with 1 Axes>"
      ]
     },
     "metadata": {
      "needs_background": "light"
     },
     "output_type": "display_data"
    }
   ],
   "source": [
    "print(\"\\nRandom Forest Classification Report:\")\n",
    "print(classification_report(y_test, rf_y_pred))\n",
    "rf_cm = confusion_matrix(y_test, rf_y_pred)\n",
    "plot_confusion_matrix(rf_cm, \"Random Forest Confusion Matrix\")"
   ]
  },
  {
   "cell_type": "code",
   "execution_count": 408,
   "metadata": {},
   "outputs": [
    {
     "name": "stdout",
     "output_type": "stream",
     "text": [
      "\n",
      "XGBoost Classification Report:\n",
      "              precision    recall  f1-score   support\n",
      "\n",
      "           0       0.64      0.73      0.68       970\n",
      "           1       0.60      0.49      0.54       790\n",
      "\n",
      "    accuracy                           0.62      1760\n",
      "   macro avg       0.62      0.61      0.61      1760\n",
      "weighted avg       0.62      0.62      0.62      1760\n",
      "\n"
     ]
    },
    {
     "data": {
      "image/png": "[encoded data removed]",
      "text/plain": [
       "<Figure size 432x432 with 1 Axes>"
      ]
     },
     "metadata": {
      "needs_background": "light"
     },
     "output_type": "display_data"
    }
   ],
   "source": [
    "print(\"\\nXGBoost Classification Report:\")\n",
    "print(classification_report(y_test, xgb_y_pred))\n",
    "xgb_cm = confusion_matrix(y_test, xgb_y_pred)\n",
    "plot_confusion_matrix(xgb_cm, \"XGBoost Confusion Matrix\")"
   ]
  },
  {
   "cell_type": "markdown",
   "metadata": {},
   "source": [
    "**Visualizing the ROC Curve for all models**"
   ]
  },
  {
   "cell_type": "code",
   "execution_count": 409,
   "metadata": {},
   "outputs": [
    {
     "data": {
      "image/png": "[encoded data removed]",
      "text/plain": [
       "<Figure size 720x576 with 1 Axes>"
      ]
     },
     "metadata": {
      "needs_background": "light"
     },
     "output_type": "display_data"
    }
   ],
   "source": [
    "# Compute ROC curve and ROC area for each model\n",
    "fpr_logistic, tpr_logistic, _ = roc_curve(y_test, logistic_y_pred_proba)\n",
    "roc_auc_logistic = auc(fpr_logistic, tpr_logistic)\n",
    "\n",
    "fpr_rf, tpr_rf, _ = roc_curve(y_test, rf_y_pred_proba)\n",
    "roc_auc_rf = auc(fpr_rf, tpr_rf)\n",
    "\n",
    "fpr_xgb, tpr_xgb, _ = roc_curve(y_test, xgb_y_pred_proba)\n",
    "roc_auc_xgb = auc(fpr_xgb, tpr_xgb)\n",
    "\n",
    "# Plot all ROC curves\n",
    "plt.figure(figsize=(10, 8))\n",
    "plt.plot(fpr_logistic, tpr_logistic, color='blue', lw=2, label='Logistic Regression (AUC = %0.2f)' % roc_auc_logistic)\n",
    "plt.plot(fpr_rf, tpr_rf, color='green', lw=2, label='Random Forest (AUC = %0.2f)' % roc_auc_rf)\n",
    "plt.plot(fpr_xgb, tpr_xgb, color='red', lw=2, label='XGBoost (AUC = %0.2f)' % roc_auc_xgb)\n",
    "plt.plot([0, 1], [0, 1], color='navy', lw=2, linestyle='--')\n",
    "plt.xlabel('False Positive Rate')\n",
    "plt.ylabel('True Positive Rate')\n",
    "plt.title('Receiver Operating Characteristic (ROC) Curve')\n",
    "plt.legend(loc='lower right')\n",
    "plt.grid(True)\n",
    "plt.show()"
   ]
  },
  {
   "cell_type": "markdown",
   "metadata": {},
   "source": [
    "**Checking for underfitting or overfitting**"
   ]
  },
  {
   "cell_type": "markdown",
   "metadata": {},
   "source": [
    "**Logistic Regression**"
   ]
  },
  {
   "cell_type": "code",
   "execution_count": 410,
   "metadata": {},
   "outputs": [
    {
     "name": "stdout",
     "output_type": "stream",
     "text": [
      "\n",
      "Logistic Regression Train Classification Report:\n",
      "              precision    recall  f1-score   support\n",
      "\n",
      "           0       0.66      0.65      0.65      3982\n",
      "           1       0.55      0.57      0.56      3057\n",
      "\n",
      "    accuracy                           0.61      7039\n",
      "   macro avg       0.61      0.61      0.61      7039\n",
      "weighted avg       0.62      0.61      0.62      7039\n",
      "\n",
      "\n",
      "Logistic Regression Test Classification Report:\n",
      "              precision    recall  f1-score   support\n",
      "\n",
      "           0       0.65      0.67      0.66       970\n",
      "           1       0.58      0.56      0.57       790\n",
      "\n",
      "    accuracy                           0.62      1760\n",
      "   macro avg       0.62      0.61      0.61      1760\n",
      "weighted avg       0.62      0.62      0.62      1760\n",
      "\n"
     ]
    }
   ],
   "source": [
    "\n",
    "logistic_y_train_pred = best_logistic_model.predict(X_train)\n",
    "logistic_y_test_pred = best_logistic_model.predict(X_test)\n",
    "\n",
    "print(\"\\nLogistic Regression Train Classification Report:\")\n",
    "print(classification_report(y_train, logistic_y_train_pred))\n",
    "# logistic_train_cm = confusion_matrix(y_train, logistic_y_train_pred)\n",
    "# plot_confusion_matrix(logistic_train_cm, \"Logistic Regression Train Confusion Matrix\")\n",
    "\n",
    "print(\"\\nLogistic Regression Test Classification Report:\")\n",
    "print(classification_report(y_test, logistic_y_test_pred))\n",
    "# logistic_test_cm = confusion_matrix(y_test, logistic_y_test_pred)\n",
    "# plot_confusion_matrix(logistic_test_cm, \"Logistic Regression Test Confusion Matrix\")"
   ]
  },
  {
   "cell_type": "markdown",
   "metadata": {},
   "source": [
    "**Random Forest**"
   ]
  },
  {
   "cell_type": "code",
   "execution_count": 411,
   "metadata": {},
   "outputs": [
    {
     "name": "stdout",
     "output_type": "stream",
     "text": [
      "\n",
      "Random Forest Train Classification Report:\n",
      "              precision    recall  f1-score   support\n",
      "\n",
      "           0       0.90      0.87      0.88      3982\n",
      "           1       0.84      0.87      0.85      3057\n",
      "\n",
      "    accuracy                           0.87      7039\n",
      "   macro avg       0.87      0.87      0.87      7039\n",
      "weighted avg       0.87      0.87      0.87      7039\n",
      "\n",
      "\n",
      "Random Forest Test Classification Report:\n",
      "              precision    recall  f1-score   support\n",
      "\n",
      "           0       0.63      0.64      0.63       970\n",
      "           1       0.55      0.54      0.54       790\n",
      "\n",
      "    accuracy                           0.59      1760\n",
      "   macro avg       0.59      0.59      0.59      1760\n",
      "weighted avg       0.59      0.59      0.59      1760\n",
      "\n"
     ]
    }
   ],
   "source": [
    "rf_y_train_pred = rf_pipeline.predict(X_train)\n",
    "rf_y_test_pred = rf_pipeline.predict(X_test)\n",
    "\n",
    "print(\"\\nRandom Forest Train Classification Report:\")\n",
    "print(classification_report(y_train, rf_y_train_pred))\n",
    "# rf_train_cm = confusion_matrix(y_train, rf_y_train_pred)\n",
    "# plot_confusion_matrix(rf_train_cm, \"Random Forest Train Confusion Matrix\")\n",
    "\n",
    "print(\"\\nRandom Forest Test Classification Report:\")\n",
    "print(classification_report(y_test, rf_y_test_pred))\n",
    "# rf_test_cm = confusion_matrix(y_test, rf_y_test_pred)\n",
    "# plot_confusion_matrix(rf_test_cm, \"Random Forest Test Confusion Matrix\")\n"
   ]
  },
  {
   "cell_type": "markdown",
   "metadata": {},
   "source": [
    "**XGBOOST**"
   ]
  },
  {
   "cell_type": "code",
   "execution_count": 412,
   "metadata": {},
   "outputs": [
    {
     "name": "stdout",
     "output_type": "stream",
     "text": [
      "\n",
      "XGBoost Train Classification Report:\n",
      "              precision    recall  f1-score   support\n",
      "\n",
      "           0       0.67      0.73      0.70      3982\n",
      "           1       0.60      0.53      0.56      3057\n",
      "\n",
      "    accuracy                           0.64      7039\n",
      "   macro avg       0.64      0.63      0.63      7039\n",
      "weighted avg       0.64      0.64      0.64      7039\n",
      "\n",
      "\n",
      "XGBoost Test Classification Report:\n",
      "              precision    recall  f1-score   support\n",
      "\n",
      "           0       0.64      0.73      0.68       970\n",
      "           1       0.60      0.49      0.54       790\n",
      "\n",
      "    accuracy                           0.62      1760\n",
      "   macro avg       0.62      0.61      0.61      1760\n",
      "weighted avg       0.62      0.62      0.62      1760\n",
      "\n"
     ]
    }
   ],
   "source": [
    "xgb_y_train_pred = xgb_pipeline.predict(X_train)\n",
    "xgb_y_test_pred = xgb_pipeline.predict(X_test)\n",
    "\n",
    "print(\"\\nXGBoost Train Classification Report:\")\n",
    "print(classification_report(y_train, xgb_y_train_pred))\n",
    "# xgb_train_cm = confusion_matrix(y_train, xgb_y_train_pred)\n",
    "# plot_confusion_matrix(xgb_train_cm, \"XGBoost Train Confusion Matrix\")\n",
    "\n",
    "print(\"\\nXGBoost Test Classification Report:\")\n",
    "print(classification_report(y_test, xgb_y_test_pred))\n",
    "# xgb_test_cm = confusion_matrix(y_test, xgb_y_test_pred)\n",
    "# plot_confusion_matrix(xgb_test_cm, \"XGBoost Test Confusion Matrix\")"
   ]
  },
  {
   "cell_type": "markdown",
   "metadata": {},
   "source": [
    "**Feature importance for the best performing model**"
   ]
  },
  {
   "cell_type": "code",
   "execution_count": 413,
   "metadata": {},
   "outputs": [
    {
     "data": {
      "image/png": "[encoded data removed]",
      "text/plain": [
       "<Figure size 720x576 with 1 Axes>"
      ]
     },
     "metadata": {
      "needs_background": "light"
     },
     "output_type": "display_data"
    }
   ],
   "source": [
    "# Function to get more descriptive feature names\n",
    "def get_descriptive_feature_names(ohe, numeric_features, categorical_features, original_features):\n",
    "    one_hot_encoded_feature_names = ohe.get_feature_names(categorical_features)\n",
    "    new_feature_names = []\n",
    "    \n",
    "    for feature in one_hot_encoded_feature_names:\n",
    "        if 'sex_' in feature:\n",
    "            if feature.endswith('_0'):\n",
    "                new_feature_names.append('sex_Female')\n",
    "            elif feature.endswith('_1'):\n",
    "                new_feature_names.append('sex_Male')\n",
    "        elif 'patient_type_' in feature:\n",
    "            if feature.endswith('_0'):\n",
    "                new_feature_names.append('patient_type_outpatient')\n",
    "            elif feature.endswith('_1'):\n",
    "                new_feature_names.append('patient_type_inpatient')\n",
    "        elif 'date_symptoms_' in feature:\n",
    "            # Extract the month part from the feature name\n",
    "            month = feature.split('_')[-1]\n",
    "            new_feature_names.append(f'month_{month}')\n",
    "        else:\n",
    "            base_feature, value = feature.rsplit('_', 1)\n",
    "            new_feature_names.append(f\"{base_feature}_{value}\")\n",
    "\n",
    "    return numeric_features + new_feature_names\n",
    "\n",
    "# Get the XGBoost model from the pipeline\n",
    "xgb_clf = xgb_pipeline.named_steps['classifier']\n",
    "\n",
    "# Get the feature importance from the XGBoost model\n",
    "xgb_feature_importance = xgb_clf.feature_importances_\n",
    "\n",
    "# Get the original feature names after one-hot encoding\n",
    "categorical_encoder = xgb_pipeline.named_steps['preprocessor'].named_transformers_['cat']\n",
    "features = get_descriptive_feature_names(categorical_encoder, numeric_features, categorical_features, X.columns)\n",
    "\n",
    "# Create a DataFrame to store feature names and their corresponding importances\n",
    "xgb_feature_importance_df = pd.DataFrame({'Feature': features, 'Importance': xgb_feature_importance})\n",
    "xgb_feature_importance_df = xgb_feature_importance_df.sort_values(by='Importance', ascending=False)\n",
    "\n",
    "# Plot the feature importance for XGBoost\n",
    "plt.figure(figsize=(10, 8))\n",
    "plt.barh(xgb_feature_importance_df['Feature'], xgb_feature_importance_df['Importance'], color='skyblue')\n",
    "plt.xlabel('Importance')\n",
    "plt.ylabel('Feature')\n",
    "plt.title('XGBoost Feature Importance')\n",
    "plt.gca().invert_yaxis()\n",
    "plt.grid(True)\n",
    "plt.show()\n"
   ]
  }
 ],
 "metadata": {
  "kernelspec": {
   "display_name": "Python (learn-env)",
   "language": "python",
   "name": "learn-env"
  },
  "language_info": {
   "codemirror_mode": {
    "name": "ipython",
    "version": 3
   },
   "file_extension": ".py",
   "mimetype": "text/x-python",
   "name": "python",
   "nbconvert_exporter": "python",
   "pygments_lexer": "ipython3",
   "version": "3.8.5"
  }
 },
 "nbformat": 4,
 "nbformat_minor": 4
}
